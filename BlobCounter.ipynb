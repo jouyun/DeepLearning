{
 "cells": [
  {
   "cell_type": "markdown",
   "metadata": {},
   "source": [
    "# Finding blobs in 64x64 images using conv2d"
   ]
  },
  {
   "cell_type": "code",
   "execution_count": 1,
   "metadata": {
    "collapsed": true
   },
   "outputs": [],
   "source": [
    "%matplotlib inline\n",
    "import numpy as np\n",
    "import matplotlib.pyplot as plt\n",
    "import pandas as pd\n",
    "import tensorflow as tf\n",
    "from scipy.optimize import curve_fit\n",
    "from PIL import Image\n",
    "import random"
   ]
  },
  {
   "cell_type": "markdown",
   "metadata": {},
   "source": [
    "# Get data"
   ]
  },
  {
   "cell_type": "markdown",
   "metadata": {},
   "source": [
    "Data reading function"
   ]
  },
  {
   "cell_type": "code",
   "execution_count": 2,
   "metadata": {
    "collapsed": true
   },
   "outputs": [],
   "source": [
    "def read_tiff(path, n_images):\n",
    "    \"\"\"\n",
    "    path - Path to the multipage-tiff file\n",
    "    n_images - Number of pages in the tiff file\n",
    "    \"\"\"\n",
    "    img = Image.open(path)\n",
    "    images = []\n",
    "    for i in range(n_images):\n",
    "        try:\n",
    "            img.seek(i)\n",
    "            slice_ = np.zeros((img.height, img.width))\n",
    "            for j in range(slice_.shape[0]):\n",
    "                for k in range(slice_.shape[1]):\n",
    "                    slice_[j,k] = img.getpixel((j, k))\n",
    "\n",
    "            images.append(slice_)\n",
    "\n",
    "        except EOFError:\n",
    "            # Not enough frames in img\n",
    "            break\n",
    "\n",
    "    return np.array(images)"
   ]
  },
  {
   "cell_type": "markdown",
   "metadata": {},
   "source": [
    "Read in blobs tiff"
   ]
  },
  {
   "cell_type": "code",
   "execution_count": 3,
   "metadata": {
    "collapsed": true
   },
   "outputs": [],
   "source": [
    "all_dataA=read_tiff('CountBlobs.tif',10000)\n",
    "all_dataB=read_tiff('CountBlobsB.tif',10000)\n",
    "all_dataC=read_tiff('CountBlobsC.tif',10000)"
   ]
  },
  {
   "cell_type": "code",
   "execution_count": 4,
   "metadata": {
    "collapsed": true
   },
   "outputs": [],
   "source": [
    "dfA=pd.read_csv('CountBlobsTruth.csv')\n",
    "dfB=pd.read_csv('CountBlobsTruthB.csv')\n",
    "dfC=pd.read_csv('CountBlobsTruthC.csv')"
   ]
  },
  {
   "cell_type": "markdown",
   "metadata": {},
   "source": [
    "Read in truth table"
   ]
  },
  {
   "cell_type": "markdown",
   "metadata": {},
   "source": [
    "# Design network"
   ]
  },
  {
   "cell_type": "markdown",
   "metadata": {},
   "source": [
    "Define a function to create a convolutional layer, including conv, relu, maxpool, that can be called multiple times"
   ]
  },
  {
   "cell_type": "code",
   "execution_count": 5,
   "metadata": {
    "collapsed": true
   },
   "outputs": [],
   "source": [
    "def create_new_conv_layer(input_data, num_input_channels, num_filters, filter_shape, pool_shape, name):\n",
    "    # setup the filter input shape for tf.nn.conv_2d\n",
    "    conv_filt_shape = [filter_shape[0], filter_shape[1], num_input_channels,\n",
    "                      num_filters]\n",
    "\n",
    "    # initialise weights and bias for the filter\n",
    "    weights = tf.Variable(tf.truncated_normal(conv_filt_shape, stddev=0.03),\n",
    "                                      name=name+'_W')\n",
    "    bias = tf.Variable(tf.truncated_normal([num_filters]), name=name+'_b')\n",
    "\n",
    "    # setup the convolutional layer operation\n",
    "    out_layer = tf.nn.conv2d(input_data, weights, [1, 1, 1, 1], padding='SAME')\n",
    "\n",
    "    # add the bias\n",
    "    out_layer += bias\n",
    "\n",
    "    # apply a ReLU non-linear activation\n",
    "    out_layer = tf.nn.relu(out_layer)\n",
    "\n",
    "    # now perform max pooling\n",
    "    ksize = [1, pool_shape[0], pool_shape[1], 1]\n",
    "    strides = [1, 2, 2, 1]\n",
    "    out_layer = tf.nn.max_pool(out_layer, ksize=ksize, strides=strides, \n",
    "                               padding='SAME')\n",
    "\n",
    "    return out_layer"
   ]
  },
  {
   "cell_type": "code",
   "execution_count": 11,
   "metadata": {
    "collapsed": true
   },
   "outputs": [],
   "source": [
    "x=tf.placeholder(dtype=tf.float32, shape=[None, 64,64])\n",
    "y=tf.placeholder(dtype=tf.float32, shape=[None, 1])\n",
    "\n",
    "x_shaped=tf.reshape(x, [-1, 64,64,1])\n",
    "conv1layer=create_new_conv_layer(x_shaped, 1, 32, [5, 5], [2, 2], name='layer1')\n",
    "conv2layer=create_new_conv_layer(conv1layer, 32, 64, [5, 5], [2, 2], name='layer2')\n",
    "conv3layer=create_new_conv_layer(conv2layer, 64, 128, [5, 5], [2, 2], name='layer3')\n",
    "\n",
    "flattened=tf.reshape(conv3layer, [-1,128*8*8 ])\n",
    "dense1=tf.contrib.layers.fully_connected(flattened,1024)\n",
    "dense2=tf.contrib.layers.fully_connected(dense1,128)\n",
    "dense3=tf.contrib.layers.fully_connected(dense2,16)\n",
    "logits=tf.contrib.layers.fully_connected(dense3,1)\n",
    "\n",
    "diff=tf.subtract(logits, y)\n",
    "LS=tf.multiply(diff,diff)\n",
    "#Add them together\n",
    "loss=tf.reduce_mean(LS)\n",
    "train_op=tf.train.AdamOptimizer(learning_rate=0.001).minimize(loss)"
   ]
  },
  {
   "cell_type": "markdown",
   "metadata": {},
   "source": [
    "# Training on easy set"
   ]
  },
  {
   "cell_type": "code",
   "execution_count": 12,
   "metadata": {
    "collapsed": true
   },
   "outputs": [],
   "source": [
    "all_data=all_dataA\n",
    "\n",
    "train_data=all_data[0:6000, :,:]\n",
    "validation_data=all_data[6001:8000, :,:]\n",
    "test_data=all_data[8001:10000, :,:]"
   ]
  },
  {
   "cell_type": "code",
   "execution_count": 13,
   "metadata": {
    "collapsed": true
   },
   "outputs": [],
   "source": [
    "df=dfA\n",
    "\n",
    "all_truth=df['Blobs'].as_matrix()\n",
    "all_truth=all_truth.reshape(all_truth.shape[0], 1)\n",
    "train_truth=all_truth[0:6000, :]\n",
    "validation_truth=all_truth[6001:8000, :]\n",
    "test_truth=all_truth[8001:10000, :]"
   ]
  },
  {
   "cell_type": "code",
   "execution_count": 14,
   "metadata": {
    "collapsed": false
   },
   "outputs": [
    {
     "name": "stdout",
     "output_type": "stream",
     "text": [
      "Error rate:  (100, 1)\n",
      "Real loss:  33.6509\n",
      "Error rate:  (100, 1)\n",
      "Real loss:  0.132451\n",
      "Error rate:  (100, 1)\n",
      "Real loss:  0.0952412\n",
      "Error rate:  (100, 1)\n",
      "Real loss:  0.1007\n",
      "Error rate:  (100, 1)\n",
      "Real loss:  0.0630987\n",
      "Error rate:  (100, 1)\n",
      "Real loss:  0.0291778\n",
      "Error rate:  (100, 1)\n",
      "Real loss:  0.0211852\n"
     ]
    }
   ],
   "source": [
    "tf.set_random_seed(123456)\n",
    "sess=tf.Session()\n",
    "sess.run(tf.global_variables_initializer())\n",
    "\n",
    "for i in range(2000):\n",
    "    idx=np.random.choice(6000, replace=False, size=[100])\n",
    "    cur_train=train_data[idx,:,:]\n",
    "    cur_truth=train_truth[idx,:]\n",
    "    _,results, LN,losses=sess.run([train_op, logits, LS, loss], feed_dict={x:cur_train, y:cur_truth})\n",
    "    if (i%300==0):\n",
    "        print(\"Error rate: \", LN.shape)\n",
    "        print(\"Real loss: \",losses)"
   ]
  },
  {
   "cell_type": "code",
   "execution_count": 15,
   "metadata": {
    "collapsed": false
   },
   "outputs": [
    {
     "data": {
      "text/plain": [
       "0.092204988"
      ]
     },
     "execution_count": 15,
     "metadata": {},
     "output_type": "execute_result"
    }
   ],
   "source": [
    "results, LN,losses=sess.run([logits, LS, loss], feed_dict={x:validation_data, y:validation_truth})\n",
    "losses"
   ]
  },
  {
   "cell_type": "code",
   "execution_count": 34,
   "metadata": {
    "collapsed": false
   },
   "outputs": [
    {
     "name": "stdout",
     "output_type": "stream",
     "text": [
      "0\n",
      "0.0131307\n",
      "0.0\n"
     ]
    },
    {
     "data": {
      "image/png": "[encoded data removed]",
      "text/plain": [
       "<matplotlib.figure.Figure at 0x7fcec43a2748>"
      ]
     },
     "metadata": {},
     "output_type": "display_data"
    }
   ],
   "source": [
    "rid=random.randint(0,1999)\n",
    "plt.imshow(validation_data[rid,:,:])\n",
    "print(validation_truth[rid,0])\n",
    "print(results[rid,0])\n",
    "print(np.mean(validation_data[rid,:,:])/5)"
   ]
  },
  {
   "cell_type": "markdown",
   "metadata": {},
   "source": [
    "# Training on middle set"
   ]
  },
  {
   "cell_type": "code",
   "execution_count": 35,
   "metadata": {
    "collapsed": true
   },
   "outputs": [],
   "source": [
    "all_data=all_dataB\n",
    "\n",
    "train_data=all_data[0:6000, :,:]\n",
    "validation_data=all_data[6001:8000, :,:]\n",
    "test_data=all_data[8001:10000, :,:]"
   ]
  },
  {
   "cell_type": "code",
   "execution_count": 36,
   "metadata": {
    "collapsed": true
   },
   "outputs": [],
   "source": [
    "df=dfB\n",
    "\n",
    "all_truth=df['Blobs'].as_matrix()\n",
    "all_truth=all_truth.reshape(all_truth.shape[0], 1)\n",
    "train_truth=all_truth[0:6000, :]\n",
    "validation_truth=all_truth[6001:8000, :]\n",
    "test_truth=all_truth[8001:10000, :]"
   ]
  },
  {
   "cell_type": "code",
   "execution_count": 37,
   "metadata": {
    "collapsed": false
   },
   "outputs": [
    {
     "name": "stdout",
     "output_type": "stream",
     "text": [
      "Error rate:  (100, 1)\n",
      "Real loss:  4.17491\n",
      "Error rate:  (100, 1)\n",
      "Real loss:  0.214113\n",
      "Error rate:  (100, 1)\n",
      "Real loss:  0.194308\n",
      "Error rate:  (100, 1)\n",
      "Real loss:  0.102602\n",
      "Error rate:  (100, 1)\n",
      "Real loss:  0.10099\n",
      "Error rate:  (100, 1)\n",
      "Real loss:  0.100932\n",
      "Error rate:  (100, 1)\n",
      "Real loss:  0.0805518\n"
     ]
    }
   ],
   "source": [
    "\n",
    "for i in range(2000):\n",
    "    idx=np.random.choice(6000, replace=False, size=[100])\n",
    "    cur_train=train_data[idx,:,:]\n",
    "    cur_truth=train_truth[idx,:]\n",
    "    _,results, LN,losses=sess.run([train_op, logits, LS, loss], feed_dict={x:cur_train, y:cur_truth})\n",
    "    if (i%300==0):\n",
    "        print(\"Error rate: \", LN.shape)\n",
    "        print(\"Real loss: \",losses)"
   ]
  },
  {
   "cell_type": "code",
   "execution_count": 38,
   "metadata": {
    "collapsed": false
   },
   "outputs": [
    {
     "data": {
      "text/plain": [
       "0.18052709"
      ]
     },
     "execution_count": 38,
     "metadata": {},
     "output_type": "execute_result"
    }
   ],
   "source": [
    "results, LN,losses=sess.run([logits, LS, loss], feed_dict={x:validation_data, y:validation_truth})\n",
    "losses"
   ]
  },
  {
   "cell_type": "code",
   "execution_count": 63,
   "metadata": {
    "collapsed": false
   },
   "outputs": [
    {
     "name": "stdout",
     "output_type": "stream",
     "text": [
      "8\n",
      "7.86109\n",
      "23.3833007812\n"
     ]
    },
    {
     "data": {
      "image/png": "[encoded data removed]",
      "text/plain": [
       "<matplotlib.figure.Figure at 0x7fcec4585080>"
      ]
     },
     "metadata": {},
     "output_type": "display_data"
    }
   ],
   "source": [
    "rid=random.randint(0,1999)\n",
    "plt.imshow(validation_data[rid,:,:])\n",
    "print(validation_truth[rid,0])\n",
    "print(results[rid,0])\n",
    "print(np.mean(validation_data[rid,:,:])/5)"
   ]
  },
  {
   "cell_type": "markdown",
   "metadata": {},
   "source": [
    "# Training on final set"
   ]
  },
  {
   "cell_type": "code",
   "execution_count": 64,
   "metadata": {
    "collapsed": true
   },
   "outputs": [],
   "source": [
    "all_data=all_dataC\n",
    "\n",
    "train_data=all_data[0:6000, :,:]\n",
    "validation_data=all_data[6001:8000, :,:]\n",
    "test_data=all_data[8001:10000, :,:]"
   ]
  },
  {
   "cell_type": "code",
   "execution_count": 65,
   "metadata": {
    "collapsed": true
   },
   "outputs": [],
   "source": [
    "df=dfC\n",
    "\n",
    "all_truth=df['Blobs'].as_matrix()\n",
    "all_truth=all_truth.reshape(all_truth.shape[0], 1)\n",
    "train_truth=all_truth[0:6000, :]\n",
    "validation_truth=all_truth[6001:8000, :]\n",
    "test_truth=all_truth[8001:10000, :]"
   ]
  },
  {
   "cell_type": "code",
   "execution_count": 66,
   "metadata": {
    "collapsed": false
   },
   "outputs": [
    {
     "name": "stdout",
     "output_type": "stream",
     "text": [
      "Error rate:  (100, 1)\n",
      "Real loss:  19.1614\n",
      "Error rate:  (100, 1)\n",
      "Real loss:  3.84646\n",
      "Error rate:  (100, 1)\n",
      "Real loss:  1.42398\n",
      "Error rate:  (100, 1)\n",
      "Real loss:  0.62982\n",
      "Error rate:  (100, 1)\n",
      "Real loss:  0.312715\n",
      "Error rate:  (100, 1)\n",
      "Real loss:  0.257419\n",
      "Error rate:  (100, 1)\n",
      "Real loss:  0.172538\n"
     ]
    }
   ],
   "source": [
    "\n",
    "for i in range(2000):\n",
    "    idx=np.random.choice(6000, replace=False, size=[100])\n",
    "    cur_train=train_data[idx,:,:]\n",
    "    cur_truth=train_truth[idx,:]\n",
    "    _,results, LN,losses=sess.run([train_op, logits, LS, loss], feed_dict={x:cur_train, y:cur_truth})\n",
    "    if (i%300==0):\n",
    "        print(\"Error rate: \", LN.shape)\n",
    "        print(\"Real loss: \",losses)"
   ]
  },
  {
   "cell_type": "code",
   "execution_count": 67,
   "metadata": {
    "collapsed": false
   },
   "outputs": [
    {
     "data": {
      "text/plain": [
       "0.32052261"
      ]
     },
     "execution_count": 67,
     "metadata": {},
     "output_type": "execute_result"
    }
   ],
   "source": [
    "results, LN,losses=sess.run([logits, LS, loss], feed_dict={x:validation_data, y:validation_truth})\n",
    "losses"
   ]
  },
  {
   "cell_type": "code",
   "execution_count": 81,
   "metadata": {
    "collapsed": false
   },
   "outputs": [
    {
     "name": "stdout",
     "output_type": "stream",
     "text": [
      "1\n",
      "0.876474\n",
      "21.2331054688\n"
     ]
    },
    {
     "data": {
      "image/png": "[encoded data removed]",
      "text/plain": [
       "<matplotlib.figure.Figure at 0x7fcec44a9160>"
      ]
     },
     "metadata": {},
     "output_type": "display_data"
    }
   ],
   "source": [
    "rid=random.randint(0,1999)\n",
    "plt.imshow(validation_data[rid,:,:])\n",
    "print(validation_truth[rid,0])\n",
    "print(results[rid,0])\n",
    "print(np.mean(validation_data[rid,:,:])/5)"
   ]
  },
  {
   "cell_type": "markdown",
   "metadata": {},
   "source": [
    "# Compare to simple mean"
   ]
  },
  {
   "cell_type": "code",
   "execution_count": 225,
   "metadata": {
    "collapsed": false
   },
   "outputs": [
    {
     "data": {
      "text/plain": [
       "(1999, 1)"
      ]
     },
     "execution_count": 225,
     "metadata": {},
     "output_type": "execute_result"
    }
   ],
   "source": [
    "validation_truth.shape"
   ]
  },
  {
   "cell_type": "code",
   "execution_count": 226,
   "metadata": {
    "collapsed": false
   },
   "outputs": [
    {
     "data": {
      "text/plain": [
       "<matplotlib.collections.PathCollection at 0x7ff802722f28>"
      ]
     },
     "execution_count": 226,
     "metadata": {},
     "output_type": "execute_result"
    },
    {
     "data": {
      "image/png": "[encoded data removed]",
      "text/plain": [
       "<matplotlib.figure.Figure at 0x7ff80290de10>"
      ]
     },
     "metadata": {},
     "output_type": "display_data"
    }
   ],
   "source": [
    "plt.scatter(np.mean(validation_data, axis=(1,2)), validation_truth[:,0])"
   ]
  },
  {
   "cell_type": "code",
   "execution_count": 227,
   "metadata": {
    "collapsed": false
   },
   "outputs": [
    {
     "data": {
      "text/plain": [
       "<matplotlib.collections.PathCollection at 0x7ff80243fac8>"
      ]
     },
     "execution_count": 227,
     "metadata": {},
     "output_type": "execute_result"
    },
    {
     "data": {
      "image/png": "[encoded data removed]",
      "text/plain": [
       "<matplotlib.figure.Figure at 0x7ff80239a080>"
      ]
     },
     "metadata": {},
     "output_type": "display_data"
    }
   ],
   "source": [
    "plt.scatter(np.mean(validation_data, axis=(1,2)), results[:,0])\n",
    "plt.scatter(np.mean(validation_data, axis=(1,2)), validation_truth[:,0])"
   ]
  },
  {
   "cell_type": "code",
   "execution_count": 232,
   "metadata": {
    "collapsed": false
   },
   "outputs": [
    {
     "data": {
      "text/plain": [
       "(array([[  98.,    0.,    0.,    0.,    0.,    0.,    0.,    0.,    0.,\n",
       "            0.],\n",
       "        [   2.,  209.,    3.,    0.,    0.,    0.,    0.,    0.,    0.,\n",
       "            0.],\n",
       "        [   0.,    9.,  215.,   10.,    0.,    0.,    0.,    0.,    0.,\n",
       "            0.],\n",
       "        [   0.,    0.,   12.,  195.,   20.,    0.,    0.,    0.,    0.,\n",
       "            0.],\n",
       "        [   0.,    0.,    0.,   27.,  192.,   34.,    0.,    0.,    0.,\n",
       "            0.],\n",
       "        [   0.,    0.,    0.,    0.,   34.,  214.,   37.,    0.,    0.,\n",
       "            0.],\n",
       "        [   0.,    0.,    0.,    0.,    3.,   46.,  206.,   40.,    0.,\n",
       "            0.],\n",
       "        [   0.,    0.,    0.,    0.,    0.,    3.,   56.,  146.,   21.,\n",
       "            0.],\n",
       "        [   0.,    0.,    0.,    0.,    0.,    0.,    7.,   38.,   69.,\n",
       "            9.],\n",
       "        [   0.,    0.,    0.,    0.,    0.,    0.,    0.,    1.,   15.,\n",
       "           28.]]),\n",
       " array([  0.,   1.,   2.,   3.,   4.,   5.,   6.,   7.,   8.,   9.,  10.]),\n",
       " array([  0.,   1.,   2.,   3.,   4.,   5.,   6.,   7.,   8.,   9.,  10.]),\n",
       " <matplotlib.image.AxesImage at 0x7ff802841908>)"
      ]
     },
     "execution_count": 232,
     "metadata": {},
     "output_type": "execute_result"
    },
    {
     "data": {
      "image/png": "[encoded data removed]",
      "text/plain": [
       "<matplotlib.figure.Figure at 0x7ff80294eeb8>"
      ]
     },
     "metadata": {},
     "output_type": "display_data"
    }
   ],
   "source": [
    "plt.hist2d(validation_truth[:,0], np.round(results[:,0]))"
   ]
  },
  {
   "cell_type": "code",
   "execution_count": null,
   "metadata": {
    "collapsed": true
   },
   "outputs": [],
   "source": []
  }
 ],
 "metadata": {
  "kernelspec": {
   "display_name": "Python 3",
   "language": "python",
   "name": "python3"
  },
  "language_info": {
   "codemirror_mode": {
    "name": "ipython",
    "version": 3
   },
   "file_extension": ".py",
   "mimetype": "text/x-python",
   "name": "python",
   "nbconvert_exporter": "python",
   "pygments_lexer": "ipython3",
   "version": "3.6.0"
  }
 },
 "nbformat": 4,
 "nbformat_minor": 2
}

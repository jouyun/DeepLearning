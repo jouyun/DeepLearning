{
 "cells": [
  {
   "cell_type": "markdown",
   "metadata": {},
   "source": [
    "# Guessing two tau values in double exponential lifetime simulations"
   ]
  },
  {
   "cell_type": "code",
   "execution_count": 5,
   "metadata": {
    "collapsed": true
   },
   "outputs": [],
   "source": [
    "%matplotlib inline\n",
    "import numpy as np\n",
    "import matplotlib.pyplot as plt\n",
    "import pandas as pd\n",
    "import tensorflow as tf\n",
    "from scipy.optimize import curve_fit"
   ]
  },
  {
   "cell_type": "markdown",
   "metadata": {},
   "source": [
    "How many samples per run (samples=photons)"
   ]
  },
  {
   "cell_type": "code",
   "execution_count": 6,
   "metadata": {
    "collapsed": true
   },
   "outputs": [],
   "source": [
    "samples=200"
   ]
  },
  {
   "cell_type": "markdown",
   "metadata": {},
   "source": [
    "Fitting function used later"
   ]
  },
  {
   "cell_type": "code",
   "execution_count": 15,
   "metadata": {
    "collapsed": true
   },
   "outputs": [],
   "source": [
    "def fitme(xx, amplitude, tau1, tau2):\n",
    "    return amplitude*(np.exp(-xx/tau1)+np.exp(-xx/tau2))"
   ]
  },
  {
   "cell_type": "markdown",
   "metadata": {},
   "source": [
    "Generate X and Y"
   ]
  },
  {
   "cell_type": "code",
   "execution_count": 7,
   "metadata": {
    "collapsed": true
   },
   "outputs": [],
   "source": [
    "def get_some_lifetime_data_old(copies, dim):\n",
    "    Y=10.0*np.sort(np.random.uniform(size=[copies,2]))\n",
    "    X=np.zeros(shape=[copies,dim])\n",
    "    for s in range(0,copies):\n",
    "        tau=(Y[s,0]*Y[s,1])/(Y[s,0]+Y[s,1])\n",
    "        #tau=Y[s,0]\n",
    "        X[s,:]=np.random.exponential(scale=tau, size=[1,dim])\n",
    "    return (X,Y)"
   ]
  },
  {
   "cell_type": "code",
   "execution_count": 8,
   "metadata": {
    "collapsed": true
   },
   "outputs": [],
   "source": [
    "XX=np.linspace(0.1,100, num=10000)\n",
    "def get_some_lifetime_data(copies, dim):\n",
    "    Y=10.0*np.sort(np.random.uniform(size=[copies,2]))\n",
    "    X=np.zeros(shape=[copies,dim])\n",
    "    for s in range(0,copies):\n",
    "        YY=np.exp(-XX/Y[s,0])+np.exp(-XX/Y[s,1])\n",
    "        X[s,:]=np.random.choice(XX,p=YY/np.sum(YY), size=[1,dim])\n",
    "    return (X,Y)\n",
    "    \n",
    "    \n",
    "        "
   ]
  },
  {
   "cell_type": "markdown",
   "metadata": {},
   "source": [
    "Setup tf"
   ]
  },
  {
   "cell_type": "code",
   "execution_count": 9,
   "metadata": {
    "collapsed": true
   },
   "outputs": [],
   "source": [
    "def original_network(x):\n",
    "    xflat=tf.contrib.layers.flatten(x)\n",
    "    layerA=tf.contrib.layers.fully_connected(xflat,10)\n",
    "    layerB=tf.contrib.layers.fully_connected(layerA, 5)\n",
    "    return tf.contrib.layers.fully_connected(layerB,2)"
   ]
  },
  {
   "cell_type": "code",
   "execution_count": 10,
   "metadata": {
    "collapsed": true
   },
   "outputs": [],
   "source": [
    "def new_network(x):\n",
    "    xflat=tf.contrib.layers.flatten(x)\n",
    "    layerA=tf.contrib.layers.fully_connected(xflat,200)\n",
    "    layerB=tf.contrib.layers.fully_connected(layerA,50)\n",
    "    layerC=tf.contrib.layers.fully_connected(layerB,10)\n",
    "    layerD=tf.contrib.layers.fully_connected(layerC,5)\n",
    "    return tf.contrib.layers.fully_connected(layerD,2)"
   ]
  },
  {
   "cell_type": "markdown",
   "metadata": {},
   "source": [
    "Load network, calculate loss"
   ]
  },
  {
   "cell_type": "code",
   "execution_count": 11,
   "metadata": {
    "collapsed": true,
    "scrolled": false
   },
   "outputs": [],
   "source": [
    "x=tf.placeholder(dtype=tf.float32, shape=[None, samples])\n",
    "y=tf.placeholder(dtype=tf.float32, shape=[None, 2])\n",
    "\n",
    "logits=new_network(x)\n",
    "\n",
    "#Setup loss calculation, start with squared error\n",
    "#YF=tf.reshape(y, shape=[tf.shape(y)[0], 1])\n",
    "diff=tf.subtract(logits, y)\n",
    "LS=tf.multiply(diff,diff)\n",
    "#Add them together\n",
    "loss=tf.reduce_mean(LS)\n",
    "train_op=tf.train.AdamOptimizer(learning_rate=0.0001).minimize(loss)\n",
    "\n",
    "\n",
    "#correct_pred=tf.round(logits)\n",
    "#accuracy=tf.reduce_mean(tf.abs(tf.subtract(correct_pred, Y)))"
   ]
  },
  {
   "cell_type": "markdown",
   "metadata": {},
   "source": [
    "Train network"
   ]
  },
  {
   "cell_type": "code",
   "execution_count": 12,
   "metadata": {
    "collapsed": false
   },
   "outputs": [
    {
     "name": "stdout",
     "output_type": "stream",
     "text": [
      "Error rate:  (1000, 2)\n",
      "Real loss:  31.6551\n",
      "Error rate:  (1000, 2)\n",
      "Real loss:  16.0001\n",
      "Error rate:  (1000, 2)\n",
      "Real loss:  11.5929\n",
      "Error rate:  (1000, 2)\n",
      "Real loss:  9.9125\n",
      "Error rate:  (1000, 2)\n",
      "Real loss:  3.04268\n",
      "Error rate:  (1000, 2)\n",
      "Real loss:  2.73281\n",
      "Error rate:  (1000, 2)\n",
      "Real loss:  2.81789\n",
      "Error rate:  (1000, 2)\n",
      "Real loss:  3.00369\n",
      "Error rate:  (1000, 2)\n",
      "Real loss:  2.66997\n",
      "Error rate:  (1000, 2)\n",
      "Real loss:  2.74193\n",
      "Error rate:  (1000, 2)\n",
      "Real loss:  2.91918\n",
      "Error rate:  (1000, 2)\n",
      "Real loss:  2.51379\n",
      "Error rate:  (1000, 2)\n",
      "Real loss:  2.71878\n",
      "Error rate:  (1000, 2)\n",
      "Real loss:  2.76\n",
      "Error rate:  (1000, 2)\n",
      "Real loss:  2.7468\n",
      "Error rate:  (1000, 2)\n",
      "Real loss:  2.90819\n",
      "Error rate:  (1000, 2)\n",
      "Real loss:  2.70309\n",
      "Error rate:  (1000, 2)\n",
      "Real loss:  2.8262\n",
      "Error rate:  (1000, 2)\n",
      "Real loss:  2.55627\n",
      "Error rate:  (1000, 2)\n",
      "Real loss:  2.55992\n",
      "Error rate:  (1000, 2)\n",
      "Real loss:  2.85616\n",
      "Error rate:  (1000, 2)\n",
      "Real loss:  2.69795\n",
      "Error rate:  (1000, 2)\n",
      "Real loss:  2.60747\n",
      "Error rate:  (1000, 2)\n",
      "Real loss:  2.78228\n",
      "Error rate:  (1000, 2)\n",
      "Real loss:  2.62263\n",
      "Error rate:  (1000, 2)\n",
      "Real loss:  2.95341\n",
      "Error rate:  (1000, 2)\n",
      "Real loss:  2.79606\n"
     ]
    }
   ],
   "source": [
    "tf.set_random_seed(123456)\n",
    "sess=tf.Session()\n",
    "\n",
    "sess.run(tf.global_variables_initializer())\n",
    "\n",
    "(X,Y)=get_some_lifetime_data(1000,samples)\n",
    "results=0\n",
    "for i in range(8000):\n",
    "    if (i%100==0):\n",
    "        (X,Y)=get_some_lifetime_data(1000,samples)    \n",
    "    _,results, LN,losses=sess.run([train_op, logits, LS, loss], feed_dict={x:X, y:Y})\n",
    "    if (i%300==0):\n",
    "        print(\"Error rate: \", LN.shape)\n",
    "        print(\"Real loss: \",losses)\n",
    "        "
   ]
  },
  {
   "cell_type": "markdown",
   "metadata": {},
   "source": [
    "Test data on a new set, one run at a time"
   ]
  },
  {
   "cell_type": "code",
   "execution_count": 13,
   "metadata": {
    "collapsed": true
   },
   "outputs": [],
   "source": [
    "(X,Y)=get_some_lifetime_data(1000,samples)\n",
    "results, LN,losses=sess.run([logits, LS, loss], feed_dict={x:X, y:Y})"
   ]
  },
  {
   "cell_type": "code",
   "execution_count": 17,
   "metadata": {
    "collapsed": false
   },
   "outputs": [
    {
     "name": "stdout",
     "output_type": "stream",
     "text": [
      "[ 3.05078086  6.85500183]\n",
      "[ 4.14753294  6.60957956]\n",
      "5.91026552655\n",
      "2.11120201655\n",
      "[ 5.64791511  5.6485056 ]\n"
     ]
    },
    {
     "data": {
      "image/png": "[encoded data removed]",
      "text/plain": [
       "<matplotlib.figure.Figure at 0x7f4dd4469f98>"
      ]
     },
     "metadata": {},
     "output_type": "display_data"
    }
   ],
   "source": [
    "idx=np.random.randint(0,500)\n",
    "thehist=plt.hist(X[idx,:], bins=np.linspace(0,16,num=80))\n",
    "plt.xlim(-0.5,15)\n",
    "print(Y[idx,:])\n",
    "print(results[idx,:])\n",
    "print(np.mean(X[idx,:]))\n",
    "print(Y[idx,0]*Y[idx,1]/(Y[idx,0]+Y[idx,1]))\n",
    "\n",
    "x_vals=[np.mean([thehist[1][i], thehist[1][i+1]]) for i in range(0,len(thehist[1])-1) ]\n",
    "y_vals=thehist[0]   \n",
    "popt, pc=curve_fit(fitme, x_vals, y_vals, bounds=(0.001, [100000,15,15]))\n",
    "print(np.sort([popt[1], popt[2]]))"
   ]
  },
  {
   "cell_type": "code",
   "execution_count": 18,
   "metadata": {
    "collapsed": false
   },
   "outputs": [
    {
     "data": {
      "text/plain": [
       "[1051.1761400697203, 3327.2459579163105]"
      ]
     },
     "execution_count": 18,
     "metadata": {},
     "output_type": "execute_result"
    },
    {
     "data": {
      "image/png": "[encoded data removed]",
      "text/plain": [
       "<matplotlib.figure.Figure at 0x7f4dd4788ac8>"
      ]
     },
     "metadata": {},
     "output_type": "display_data"
    }
   ],
   "source": [
    "LSQ=np.zeros([500,2])\n",
    "NN=np.zeros([500,2])\n",
    "for j in range(0,200):\n",
    "    thehist=plt.hist(X[j,:], bins=np.linspace(0,16,num=20))\n",
    "    NN[j,:]=Y[j,:]-results[j,:]\n",
    "    \n",
    "    x_vals=[np.mean([thehist[1][i], thehist[1][i+1]]) for i in range(0,len(thehist[1])-1) ]\n",
    "    y_vals=thehist[0]   \n",
    "    popt, pc=curve_fit(fitme, x_vals, y_vals, bounds=(0.001, [100000,15,15]))\n",
    "    S=np.sort([popt[1], popt[2]])\n",
    "    LSQ[j,:]=Y[j,:]-S\n",
    "[np.sum(np.square(NN)), np.sum(np.square(LSQ))]"
   ]
  },
  {
   "cell_type": "code",
   "execution_count": 142,
   "metadata": {
    "collapsed": false
   },
   "outputs": [
    {
     "data": {
      "text/plain": [
       "array([  0.04020101,   0.12060302,   0.20100503,   0.28140704,\n",
       "         0.36180905,   0.44221106,   0.52261307,   0.60301508,\n",
       "         0.68341709,   0.7638191 ,   0.84422111,   0.92462312,\n",
       "         1.00502513,   1.08542714,   1.16582915,   1.24623116,\n",
       "         1.32663317,   1.40703518,   1.48743719,   1.5678392 ,\n",
       "         1.64824121,   1.72864322,   1.80904523,   1.88944724,\n",
       "         1.96984925,   2.05025126,   2.13065327,   2.21105528,\n",
       "         2.29145729,   2.3718593 ,   2.45226131,   2.53266332,\n",
       "         2.61306533,   2.69346734,   2.77386935,   2.85427136,\n",
       "         2.93467337,   3.01507538,   3.09547739,   3.1758794 ,\n",
       "         3.25628141,   3.33668342,   3.41708543,   3.49748744,\n",
       "         3.57788945,   3.65829146,   3.73869347,   3.81909548,\n",
       "         3.89949749,   3.9798995 ,   4.06030151,   4.14070352,\n",
       "         4.22110553,   4.30150754,   4.38190955,   4.46231156,\n",
       "         4.54271357,   4.62311558,   4.70351759,   4.7839196 ,\n",
       "         4.86432161,   4.94472362,   5.02512563,   5.10552764,\n",
       "         5.18592965,   5.26633166,   5.34673367,   5.42713568,\n",
       "         5.50753769,   5.5879397 ,   5.66834171,   5.74874372,\n",
       "         5.82914573,   5.90954774,   5.98994975,   6.07035176,\n",
       "         6.15075377,   6.23115578,   6.31155779,   6.3919598 ,\n",
       "         6.47236181,   6.55276382,   6.63316583,   6.71356784,\n",
       "         6.79396985,   6.87437186,   6.95477387,   7.03517588,\n",
       "         7.11557789,   7.1959799 ,   7.27638191,   7.35678392,\n",
       "         7.43718593,   7.51758794,   7.59798995,   7.67839196,\n",
       "         7.75879397,   7.83919598,   7.91959799,   8.        ,\n",
       "         8.08040201,   8.16080402,   8.24120603,   8.32160804,\n",
       "         8.40201005,   8.48241206,   8.56281407,   8.64321608,\n",
       "         8.72361809,   8.8040201 ,   8.88442211,   8.96482412,\n",
       "         9.04522613,   9.12562814,   9.20603015,   9.28643216,\n",
       "         9.36683417,   9.44723618,   9.52763819,   9.6080402 ,\n",
       "         9.68844221,   9.76884422,   9.84924623,   9.92964824,\n",
       "        10.01005025,  10.09045226,  10.17085427,  10.25125628,\n",
       "        10.33165829,  10.4120603 ,  10.49246231,  10.57286432,\n",
       "        10.65326633,  10.73366834,  10.81407035,  10.89447236,\n",
       "        10.97487437,  11.05527638,  11.13567839,  11.2160804 ,\n",
       "        11.29648241,  11.37688442,  11.45728643,  11.53768844,\n",
       "        11.61809045,  11.69849246,  11.77889447,  11.85929648,\n",
       "        11.93969849,  12.0201005 ,  12.10050251,  12.18090452,\n",
       "        12.26130653,  12.34170854,  12.42211055,  12.50251256,\n",
       "        12.58291457,  12.66331658,  12.74371859,  12.8241206 ,\n",
       "        12.90452261,  12.98492462,  13.06532663,  13.14572864,\n",
       "        13.22613065,  13.30653266,  13.38693467,  13.46733668,\n",
       "        13.54773869,  13.6281407 ,  13.70854271,  13.78894472,\n",
       "        13.86934673,  13.94974874,  14.03015075,  14.11055276,\n",
       "        14.19095477,  14.27135678,  14.35175879,  14.4321608 ,\n",
       "        14.51256281,  14.59296482,  14.67336683,  14.75376884,\n",
       "        14.83417085,  14.91457286,  14.99497487,  15.07537688,\n",
       "        15.15577889,  15.2361809 ,  15.31658291,  15.39698492,\n",
       "        15.47738693,  15.55778894,  15.63819095,  15.71859296,\n",
       "        15.79899497,  15.87939698,  15.95979899])"
      ]
     },
     "execution_count": 142,
     "metadata": {},
     "output_type": "execute_result"
    }
   ],
   "source": [
    "xbins=np.linspace(0,16,200)\n",
    "c,d=np.histogram(X[0,:], bins=xbins)\n",
    "d[0:-1]+xbins[1]/2"
   ]
  },
  {
   "cell_type": "code",
   "execution_count": 125,
   "metadata": {
    "collapsed": false
   },
   "outputs": [
    {
     "data": {
      "text/plain": [
       "[<matplotlib.lines.Line2D at 0x7f9231e13b00>]"
      ]
     },
     "execution_count": 125,
     "metadata": {},
     "output_type": "execute_result"
    },
    {
     "data": {
      "image/png": "[encoded data removed]",
      "text/plain": [
       "<matplotlib.figure.Figure at 0x7f9232333d68>"
      ]
     },
     "metadata": {},
     "output_type": "display_data"
    }
   ],
   "source": [
    "plt.plot(x_vals,np.sum(y_vals)-np.cumsum(y_vals))"
   ]
  },
  {
   "cell_type": "code",
   "execution_count": 126,
   "metadata": {
    "collapsed": false
   },
   "outputs": [
    {
     "data": {
      "text/plain": [
       "array([ 105.02174317,    4.06085661,    4.06092945])"
      ]
     },
     "execution_count": 126,
     "metadata": {},
     "output_type": "execute_result"
    }
   ],
   "source": [
    "popt, pc=curve_fit(fitme, x_vals, np.sum(y_vals)-np.cumsum(y_vals), bounds=(0.001, [100000,15,15]))\n",
    "popt"
   ]
  },
  {
   "cell_type": "code",
   "execution_count": 39,
   "metadata": {
    "collapsed": true
   },
   "outputs": [],
   "source": []
  },
  {
   "cell_type": "code",
   "execution_count": 27,
   "metadata": {
    "collapsed": true
   },
   "outputs": [],
   "source": [
    "x_vals=[np.mean([thehist[1][i], thehist[1][i+1]]) for i in range(0,len(thehist[1])-1) ]\n",
    "y_vals=thehist[0]    "
   ]
  },
  {
   "cell_type": "code",
   "execution_count": 28,
   "metadata": {
    "collapsed": false
   },
   "outputs": [
    {
     "data": {
      "text/plain": [
       "[<matplotlib.lines.Line2D at 0x7f8ae423d278>]"
      ]
     },
     "execution_count": 28,
     "metadata": {},
     "output_type": "execute_result"
    },
    {
     "data": {
      "image/png": "[encoded data removed]",
      "text/plain": [
       "<matplotlib.figure.Figure at 0x7f8ae4108a20>"
      ]
     },
     "metadata": {},
     "output_type": "display_data"
    }
   ],
   "source": [
    "plt.plot(x_vals, y_vals)"
   ]
  },
  {
   "cell_type": "code",
   "execution_count": 47,
   "metadata": {
    "collapsed": false
   },
   "outputs": [
    {
     "data": {
      "text/plain": [
       "[<matplotlib.lines.Line2D at 0x7f8adc3bb550>]"
      ]
     },
     "execution_count": 47,
     "metadata": {},
     "output_type": "execute_result"
    },
    {
     "data": {
      "image/png": "[encoded data removed]",
      "text/plain": [
       "<matplotlib.figure.Figure at 0x7f8adc3dbeb8>"
      ]
     },
     "metadata": {},
     "output_type": "display_data"
    }
   ],
   "source": [
    "XX=np.linspace(1,100, num=1000)\n",
    "YY=0.75*np.exp(-XX/3)+0.75*np.exp(-XX/80)\n",
    "plt.plot(XX,YY)"
   ]
  },
  {
   "cell_type": "code",
   "execution_count": 52,
   "metadata": {
    "collapsed": false
   },
   "outputs": [
    {
     "data": {
      "text/plain": [
       "(array([ 833.,  628.,  491.,  522.,  473.,  446.,  444.,  412.,  374.,\n",
       "         363.,  338.,  341.,  311.,  323.,  299.,  296.,  299.,  283.,\n",
       "         249.,  278.,  270.,  199.,  250.,  206.,  191.,  198.,  181.,\n",
       "         164.,  169.,  169.]),\n",
       " array([   1. ,    4.3,    7.6,   10.9,   14.2,   17.5,   20.8,   24.1,\n",
       "          27.4,   30.7,   34. ,   37.3,   40.6,   43.9,   47.2,   50.5,\n",
       "          53.8,   57.1,   60.4,   63.7,   67. ,   70.3,   73.6,   76.9,\n",
       "          80.2,   83.5,   86.8,   90.1,   93.4,   96.7,  100. ]),\n",
       " <a list of 30 Patch objects>)"
      ]
     },
     "execution_count": 52,
     "metadata": {},
     "output_type": "execute_result"
    },
    {
     "data": {
      "image/png": "[encoded data removed]",
      "text/plain": [
       "<matplotlib.figure.Figure at 0x7f8ae42d1780>"
      ]
     },
     "metadata": {},
     "output_type": "display_data"
    }
   ],
   "source": [
    "plt.hist(np.random.choice(XX,p=YY/np.sum(YY), size=[10000,1]), bins=30)"
   ]
  },
  {
   "cell_type": "code",
   "execution_count": null,
   "metadata": {
    "collapsed": true
   },
   "outputs": [],
   "source": []
  }
 ],
 "metadata": {
  "kernelspec": {
   "display_name": "Python 3",
   "language": "python",
   "name": "python3"
  },
  "language_info": {
   "codemirror_mode": {
    "name": "ipython",
    "version": 3
   },
   "file_extension": ".py",
   "mimetype": "text/x-python",
   "name": "python",
   "nbconvert_exporter": "python",
   "pygments_lexer": "ipython3",
   "version": "3.6.0"
  }
 },
 "nbformat": 4,
 "nbformat_minor": 2
}

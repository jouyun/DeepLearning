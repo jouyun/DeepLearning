{
 "cells": [
  {
   "cell_type": "code",
   "execution_count": 1,
   "metadata": {
    "collapsed": true
   },
   "outputs": [],
   "source": [
    "%matplotlib inline\n",
    "import numpy as np\n",
    "import matplotlib.pyplot as plt\n",
    "import pandas as pd\n",
    "import tensorflow as tf\n",
    "from scipy.optimize import curve_fit"
   ]
  },
  {
   "cell_type": "markdown",
   "metadata": {},
   "source": [
    "Define offset"
   ]
  },
  {
   "cell_type": "code",
   "execution_count": 2,
   "metadata": {
    "collapsed": true
   },
   "outputs": [],
   "source": [
    "test_offset=0.02\n",
    "samples=900"
   ]
  },
  {
   "cell_type": "markdown",
   "metadata": {},
   "source": [
    "Generate X and Y"
   ]
  },
  {
   "cell_type": "code",
   "execution_count": 3,
   "metadata": {
    "collapsed": true
   },
   "outputs": [],
   "source": [
    "def get_some_lifetime_data(copies, dim):\n",
    "    Y=10.0*np.sort(np.random.uniform(size=[copies,2]))\n",
    "    X=np.zeros(shape=[copies,dim])\n",
    "    for s in range(0,copies):\n",
    "        tau=(Y[s,0]*Y[s,1])/(Y[s,0]+Y[s,1])\n",
    "        #tau=Y[s,0]\n",
    "        X[s,:]=np.random.exponential(scale=tau, size=[1,dim])\n",
    "    return (X,Y)"
   ]
  },
  {
   "cell_type": "markdown",
   "metadata": {},
   "source": [
    "Setup tf"
   ]
  },
  {
   "cell_type": "code",
   "execution_count": 4,
   "metadata": {
    "collapsed": true
   },
   "outputs": [],
   "source": [
    "def original_network(x):\n",
    "    xflat=tf.contrib.layers.flatten(x)\n",
    "    layerA=tf.contrib.layers.fully_connected(xflat,10)\n",
    "    layerB=tf.contrib.layers.fully_connected(layerA, 5)\n",
    "    return tf.contrib.layers.fully_connected(layerB,2)"
   ]
  },
  {
   "cell_type": "code",
   "execution_count": 5,
   "metadata": {
    "collapsed": true
   },
   "outputs": [],
   "source": [
    "def new_network(x):\n",
    "    xflat=tf.contrib.layers.flatten(x)\n",
    "    layerA=tf.contrib.layers.fully_connected(xflat,200)\n",
    "    layerB=tf.contrib.layers.fully_connected(layerA,50)\n",
    "    layerC=tf.contrib.layers.fully_connected(layerB,10)\n",
    "    layerD=tf.contrib.layers.fully_connected(layerC,5)\n",
    "    return tf.contrib.layers.fully_connected(layerD,2)"
   ]
  },
  {
   "cell_type": "markdown",
   "metadata": {},
   "source": [
    "Load network, calculate loss"
   ]
  },
  {
   "cell_type": "code",
   "execution_count": 6,
   "metadata": {
    "collapsed": true,
    "scrolled": false
   },
   "outputs": [],
   "source": [
    "x=tf.placeholder(dtype=tf.float32, shape=[None, samples])\n",
    "y=tf.placeholder(dtype=tf.float32, shape=[None, 2])\n",
    "\n",
    "logits=original_network(x)\n",
    "\n",
    "#Setup loss calculation, start with squared error\n",
    "#YF=tf.reshape(y, shape=[tf.shape(y)[0], 1])\n",
    "diff=tf.subtract(logits, y)\n",
    "LS=tf.multiply(diff,diff)\n",
    "#Add them together\n",
    "loss=tf.reduce_mean(LS)\n",
    "train_op=tf.train.AdamOptimizer(learning_rate=0.0001).minimize(loss)\n",
    "\n",
    "\n",
    "#correct_pred=tf.round(logits)\n",
    "#accuracy=tf.reduce_mean(tf.abs(tf.subtract(correct_pred, Y)))"
   ]
  },
  {
   "cell_type": "markdown",
   "metadata": {},
   "source": [
    "Train network"
   ]
  },
  {
   "cell_type": "code",
   "execution_count": 8,
   "metadata": {},
   "outputs": [
    {
     "name": "stdout",
     "output_type": "stream",
     "text": [
      "Error rate:  (1000, 2)\n",
      "Real loss:  28.6346\n",
      "Error rate:  (1000, 2)\n",
      "Real loss:  4.45127\n",
      "Error rate:  (1000, 2)\n",
      "Real loss:  3.74209\n",
      "Error rate:  (1000, 2)\n",
      "Real loss:  3.19042\n",
      "Error rate:  (1000, 2)\n",
      "Real loss:  2.84433\n",
      "Error rate:  (1000, 2)\n",
      "Real loss:  2.62661\n",
      "Error rate:  (1000, 2)\n",
      "Real loss:  2.25975\n",
      "Error rate:  (1000, 2)\n",
      "Real loss:  2.17803\n",
      "Error rate:  (1000, 2)\n",
      "Real loss:  1.90579\n"
     ]
    }
   ],
   "source": [
    "tf.set_random_seed(123456)\n",
    "sess=tf.Session()\n",
    "\n",
    "sess.run(tf.global_variables_initializer())\n",
    "\n",
    "(X,Y)=get_some_lifetime_data(1000,samples)\n",
    "results=0\n",
    "for i in range(9000):\n",
    "    if (i%20==0):\n",
    "        (X,Y)=get_some_lifetime_data(1000,samples)    \n",
    "    _,results, LN,losses=sess.run([train_op, logits, LS, loss], feed_dict={x:X, y:Y})\n",
    "    if (i%1000==0):\n",
    "        print(\"Error rate: \", LN.shape)\n",
    "        print(\"Real loss: \",losses)\n",
    "        "
   ]
  },
  {
   "cell_type": "code",
   "execution_count": 35,
   "metadata": {},
   "outputs": [
    {
     "name": "stdout",
     "output_type": "stream",
     "text": [
      "[ 1.02716876  7.90272266]\n",
      "[ 0.88203979  5.26271248]\n",
      "0.867466680718\n",
      "0.909017751815\n",
      "[1.700934537634345, 1.7004552136712783]\n"
     ]
    },
    {
     "data": {
      "image/png": "[encoded data removed]",
      "text/plain": [
       "<matplotlib.figure.Figure at 0x7f8ae40c4710>"
      ]
     },
     "metadata": {},
     "output_type": "display_data"
    }
   ],
   "source": [
    "(X,Y)=get_some_lifetime_data(1000,samples)\n",
    "results, LN,losses=sess.run([logits, LS, loss], feed_dict={x:X, y:Y})\n",
    "\n",
    "idx=np.random.randint(0,500)\n",
    "thehist=plt.hist(X[idx,:], bins=30)\n",
    "plt.xlim(-0.5,15)\n",
    "print(Y[idx,:])\n",
    "print(results[idx,:])\n",
    "print(np.mean(X[idx,:]))\n",
    "print(Y[idx,0]*Y[idx,1]/(Y[idx,0]+Y[idx,1]))\n",
    "\n",
    "x_vals=[np.mean([thehist[1][i], thehist[1][i+1]]) for i in range(0,len(thehist[1])-1) ]\n",
    "y_vals=thehist[0]   \n",
    "popt, pc=curve_fit(fitme, x_vals, y_vals, bounds=(0.001, [100000,15,15]))\n",
    "print([popt[1], popt[2]])"
   ]
  },
  {
   "cell_type": "code",
   "execution_count": 26,
   "metadata": {
    "collapsed": true
   },
   "outputs": [],
   "source": [
    "def fitme(xx, amplitude, tau1, tau2):\n",
    "    return amplitude*np.exp(-xx/tau1)*np.exp(-xx/tau2)"
   ]
  },
  {
   "cell_type": "code",
   "execution_count": 27,
   "metadata": {
    "collapsed": true
   },
   "outputs": [],
   "source": [
    "x_vals=[np.mean([thehist[1][i], thehist[1][i+1]]) for i in range(0,len(thehist[1])-1) ]\n",
    "y_vals=thehist[0]    "
   ]
  },
  {
   "cell_type": "code",
   "execution_count": 28,
   "metadata": {},
   "outputs": [
    {
     "data": {
      "text/plain": [
       "[<matplotlib.lines.Line2D at 0x7f8ae423d278>]"
      ]
     },
     "execution_count": 28,
     "metadata": {},
     "output_type": "execute_result"
    },
    {
     "data": {
      "image/png": "[encoded data removed]",
      "text/plain": [
       "<matplotlib.figure.Figure at 0x7f8ae4108a20>"
      ]
     },
     "metadata": {},
     "output_type": "display_data"
    }
   ],
   "source": [
    "plt.plot(x_vals, y_vals)"
   ]
  },
  {
   "cell_type": "code",
   "execution_count": 47,
   "metadata": {},
   "outputs": [
    {
     "data": {
      "text/plain": [
       "[<matplotlib.lines.Line2D at 0x7f8adc3bb550>]"
      ]
     },
     "execution_count": 47,
     "metadata": {},
     "output_type": "execute_result"
    },
    {
     "data": {
      "image/png": "[encoded data removed]",
      "text/plain": [
       "<matplotlib.figure.Figure at 0x7f8adc3dbeb8>"
      ]
     },
     "metadata": {},
     "output_type": "display_data"
    }
   ],
   "source": [
    "XX=np.linspace(1,100, num=1000)\n",
    "YY=0.75*np.exp(-XX/3)+0.75*np.exp(-XX/80)\n",
    "plt.plot(XX,YY)"
   ]
  },
  {
   "cell_type": "code",
   "execution_count": 52,
   "metadata": {},
   "outputs": [
    {
     "data": {
      "text/plain": [
       "(array([ 833.,  628.,  491.,  522.,  473.,  446.,  444.,  412.,  374.,\n",
       "         363.,  338.,  341.,  311.,  323.,  299.,  296.,  299.,  283.,\n",
       "         249.,  278.,  270.,  199.,  250.,  206.,  191.,  198.,  181.,\n",
       "         164.,  169.,  169.]),\n",
       " array([   1. ,    4.3,    7.6,   10.9,   14.2,   17.5,   20.8,   24.1,\n",
       "          27.4,   30.7,   34. ,   37.3,   40.6,   43.9,   47.2,   50.5,\n",
       "          53.8,   57.1,   60.4,   63.7,   67. ,   70.3,   73.6,   76.9,\n",
       "          80.2,   83.5,   86.8,   90.1,   93.4,   96.7,  100. ]),\n",
       " <a list of 30 Patch objects>)"
      ]
     },
     "execution_count": 52,
     "metadata": {},
     "output_type": "execute_result"
    },
    {
     "data": {
      "image/png": "[encoded data removed]",
      "text/plain": [
       "<matplotlib.figure.Figure at 0x7f8ae42d1780>"
      ]
     },
     "metadata": {},
     "output_type": "display_data"
    }
   ],
   "source": [
    "plt.hist(np.random.choice(XX,p=YY/np.sum(YY), size=[10000,1]), bins=30)"
   ]
  },
  {
   "cell_type": "code",
   "execution_count": null,
   "metadata": {
    "collapsed": true
   },
   "outputs": [],
   "source": []
  }
 ],
 "metadata": {
  "kernelspec": {
   "display_name": "Python 3",
   "language": "python",
   "name": "python3"
  },
  "language_info": {
   "codemirror_mode": {
    "name": "ipython",
    "version": 3
   },
   "file_extension": ".py",
   "mimetype": "text/x-python",
   "name": "python",
   "nbconvert_exporter": "python",
   "pygments_lexer": "ipython3",
   "version": "3.5.0"
  }
 },
 "nbformat": 4,
 "nbformat_minor": 2
}

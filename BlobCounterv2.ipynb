{
 "cells": [
  {
   "cell_type": "markdown",
   "metadata": {},
   "source": [
    "# Finding blobs in 64x64 images using conv2d"
   ]
  },
  {
   "cell_type": "code",
   "execution_count": 41,
   "metadata": {
    "collapsed": true
   },
   "outputs": [],
   "source": [
    "%matplotlib inline\n",
    "import numpy as np\n",
    "import matplotlib.pyplot as plt\n",
    "import pandas as pd\n",
    "import tensorflow as tf\n",
    "from scipy.optimize import curve_fit\n",
    "from PIL import Image\n",
    "import random"
   ]
  },
  {
   "cell_type": "markdown",
   "metadata": {},
   "source": [
    "# Get data"
   ]
  },
  {
   "cell_type": "markdown",
   "metadata": {},
   "source": [
    "Data reading function"
   ]
  },
  {
   "cell_type": "code",
   "execution_count": 42,
   "metadata": {
    "collapsed": true
   },
   "outputs": [],
   "source": [
    "def read_tiff(path, n_images):\n",
    "    \"\"\"\n",
    "    path - Path to the multipage-tiff file\n",
    "    n_images - Number of pages in the tiff file\n",
    "    \"\"\"\n",
    "    img = Image.open(path)\n",
    "    images = []\n",
    "    for i in range(n_images):\n",
    "        try:\n",
    "            img.seek(i)\n",
    "            slice_ = np.zeros((img.height, img.width))\n",
    "            for j in range(slice_.shape[0]):\n",
    "                for k in range(slice_.shape[1]):\n",
    "                    slice_[j,k] = img.getpixel((j, k))\n",
    "\n",
    "            images.append(slice_)\n",
    "\n",
    "        except EOFError:\n",
    "            # Not enough frames in img\n",
    "            break\n",
    "\n",
    "    return np.array(images)"
   ]
  },
  {
   "cell_type": "markdown",
   "metadata": {},
   "source": [
    "Read in blobs tiff"
   ]
  },
  {
   "cell_type": "code",
   "execution_count": 43,
   "metadata": {
    "collapsed": true
   },
   "outputs": [],
   "source": [
    "all_dataA=read_tiff('CountBlobs.tif',10000)\n",
    "all_dataB=read_tiff('CountBlobsB.tif',10000)\n",
    "all_dataC=read_tiff('CountBlobsC.tif',10000)"
   ]
  },
  {
   "cell_type": "code",
   "execution_count": 44,
   "metadata": {
    "collapsed": true
   },
   "outputs": [],
   "source": [
    "dfA=pd.read_csv('CountBlobsTruth.csv')\n",
    "dfB=pd.read_csv('CountBlobsTruthB.csv')\n",
    "dfC=pd.read_csv('CountBlobsTruthC.csv')"
   ]
  },
  {
   "cell_type": "markdown",
   "metadata": {},
   "source": [
    "Read in truth table"
   ]
  },
  {
   "cell_type": "markdown",
   "metadata": {},
   "source": [
    "# Design network"
   ]
  },
  {
   "cell_type": "markdown",
   "metadata": {},
   "source": [
    "Define a function to create a convolutional layer, including conv, relu, maxpool, that can be called multiple times"
   ]
  },
  {
   "cell_type": "code",
   "execution_count": 74,
   "metadata": {
    "collapsed": true
   },
   "outputs": [],
   "source": [
    "def create_new_conv_layer(input_data, num_input_channels, num_filters, filter_shape, pool_shape, name):\n",
    "    # setup the filter input shape for tf.nn.conv_2d\n",
    "    conv_filt_shape = [filter_shape[0], filter_shape[1], num_input_channels,\n",
    "                      num_filters]\n",
    "\n",
    "    # initialise weights and bias for the filter\n",
    "    weights = tf.Variable(tf.truncated_normal(conv_filt_shape, stddev=0.03),\n",
    "                                      name=name+'_W')\n",
    "    bias = tf.Variable(tf.truncated_normal([num_filters]), name=name+'_b')\n",
    "\n",
    "    # setup the convolutional layer operation\n",
    "    #out_layer = tf.nn.conv2d(input_data, weights, [1, 1, 1, 1], padding='SAME')\n",
    "    out_layer=tf.contrib.layers.conv2d(input_data, num_filters, filter_shape)\n",
    "\n",
    "    # add the bias\n",
    "    #out_layer += bias\n",
    "\n",
    "    # apply a ReLU non-linear activation\n",
    "    #out_layer = tf.nn.relu(out_layer)\n",
    "\n",
    "    # now perform max pooling\n",
    "    ksize = [1, pool_shape[0], pool_shape[1], 1]\n",
    "    strides = [1, 2, 2, 1]\n",
    "    out_layer = tf.nn.max_pool(out_layer, ksize=ksize, strides=strides, \n",
    "                               padding='SAME')\n",
    "\n",
    "    return out_layer"
   ]
  },
  {
   "cell_type": "code",
   "execution_count": 83,
   "metadata": {
    "collapsed": true
   },
   "outputs": [],
   "source": [
    "x=tf.placeholder(dtype=tf.float32, shape=[None, 64,64])\n",
    "y=tf.placeholder(dtype=tf.float32, shape=[None, 1])\n",
    "\n",
    "x_shaped=tf.reshape(x, [-1, 64,64,1])\n",
    "conv1layer=create_new_conv_layer(x_shaped, 1, 32, [5, 5], [2, 2], name='layer1')\n",
    "conv2layer=create_new_conv_layer(conv1layer, 32, 64, [5, 5], [2, 2], name='layer2')\n",
    "conv3layer=create_new_conv_layer(conv2layer, 64, 128, [5, 5], [2, 2], name='layer3')\n",
    "\n",
    "flattened=tf.reshape(conv3layer, [-1,128*8*8 ])\n",
    "dense1=tf.contrib.layers.fully_connected(flattened,1024)\n",
    "dense2=tf.contrib.layers.fully_connected(dense1,128)\n",
    "dense3=tf.contrib.layers.fully_connected(dense2,16)\n",
    "logits=tf.contrib.layers.fully_connected(dense3,1)\n",
    "\n",
    "diff=tf.subtract(logits, y)\n",
    "LS=tf.multiply(diff,diff)\n",
    "#Add them together\n",
    "loss=tf.reduce_mean(LS)\n",
    "train_op=tf.train.AdamOptimizer(learning_rate=0.001).minimize(loss)"
   ]
  },
  {
   "cell_type": "markdown",
   "metadata": {},
   "source": [
    "# Training on easy set"
   ]
  },
  {
   "cell_type": "code",
   "execution_count": 84,
   "metadata": {
    "collapsed": true
   },
   "outputs": [],
   "source": [
    "all_data=all_dataA\n",
    "\n",
    "train_data=all_data[0:6000, :,:]\n",
    "validation_data=all_data[6001:8000, :,:]\n",
    "test_data=all_data[8001:10000, :,:]"
   ]
  },
  {
   "cell_type": "code",
   "execution_count": 85,
   "metadata": {
    "collapsed": true
   },
   "outputs": [],
   "source": [
    "df=dfA\n",
    "\n",
    "all_truth=df['Blobs'].as_matrix()\n",
    "all_truth=all_truth.reshape(all_truth.shape[0], 1)\n",
    "train_truth=all_truth[0:6000, :]\n",
    "validation_truth=all_truth[6001:8000, :]\n",
    "test_truth=all_truth[8001:10000, :]"
   ]
  },
  {
   "cell_type": "code",
   "execution_count": 86,
   "metadata": {
    "collapsed": false
   },
   "outputs": [
    {
     "name": "stdout",
     "output_type": "stream",
     "text": [
      "Error rate:  (100, 1)\n",
      "Real loss:  20.1709\n",
      "Error rate:  (100, 1)\n",
      "Real loss:  0.151702\n",
      "Error rate:  (100, 1)\n",
      "Real loss:  0.0836622\n",
      "Error rate:  (100, 1)\n",
      "Real loss:  0.0364741\n",
      "Error rate:  (100, 1)\n",
      "Real loss:  0.0186836\n",
      "Error rate:  (100, 1)\n",
      "Real loss:  0.0109636\n",
      "Error rate:  (100, 1)\n",
      "Real loss:  0.0147453\n"
     ]
    }
   ],
   "source": [
    "tf.set_random_seed(123456)\n",
    "sess=tf.Session()\n",
    "sess.run(tf.global_variables_initializer())\n",
    "\n",
    "for i in range(2000):\n",
    "    idx=np.random.choice(6000, replace=False, size=[100])\n",
    "    cur_train=train_data[idx,:,:]\n",
    "    cur_truth=train_truth[idx,:]\n",
    "    _,results, LN,losses=sess.run([train_op, logits, LS, loss], feed_dict={x:cur_train, y:cur_truth})\n",
    "    if (i%300==0):\n",
    "        print(\"Error rate: \", LN.shape)\n",
    "        print(\"Real loss: \",losses)"
   ]
  },
  {
   "cell_type": "code",
   "execution_count": 87,
   "metadata": {
    "collapsed": true
   },
   "outputs": [],
   "source": [
    "results, LN,losses=sess.run([logits, LS, loss], feed_dict={x:validation_data, y:validation_truth})"
   ]
  },
  {
   "cell_type": "code",
   "execution_count": 88,
   "metadata": {
    "collapsed": false
   },
   "outputs": [
    {
     "name": "stdout",
     "output_type": "stream",
     "text": [
      "10\n",
      "9.91669\n",
      "8.84033203125\n"
     ]
    },
    {
     "data": {
      "image/png": "[encoded data removed]",
      "text/plain": [
       "<matplotlib.figure.Figure at 0x7fa904525550>"
      ]
     },
     "metadata": {},
     "output_type": "display_data"
    }
   ],
   "source": [
    "rid=random.randint(0,1999)\n",
    "plt.imshow(validation_data[rid,:,:])\n",
    "print(validation_truth[rid,0])\n",
    "print(results[rid,0])\n",
    "print(np.mean(validation_data[rid,:,:])/5)"
   ]
  },
  {
   "cell_type": "markdown",
   "metadata": {},
   "source": [
    "# Training on middle set"
   ]
  },
  {
   "cell_type": "code",
   "execution_count": 89,
   "metadata": {
    "collapsed": true
   },
   "outputs": [],
   "source": [
    "all_data=all_dataB\n",
    "\n",
    "train_data=all_data[0:6000, :,:]\n",
    "validation_data=all_data[6001:8000, :,:]\n",
    "test_data=all_data[8001:10000, :,:]"
   ]
  },
  {
   "cell_type": "code",
   "execution_count": 90,
   "metadata": {
    "collapsed": true
   },
   "outputs": [],
   "source": [
    "df=dfB\n",
    "\n",
    "all_truth=df['Blobs'].as_matrix()\n",
    "all_truth=all_truth.reshape(all_truth.shape[0], 1)\n",
    "train_truth=all_truth[0:6000, :]\n",
    "validation_truth=all_truth[6001:8000, :]\n",
    "test_truth=all_truth[8001:10000, :]"
   ]
  },
  {
   "cell_type": "code",
   "execution_count": 108,
   "metadata": {
    "collapsed": false
   },
   "outputs": [
    {
     "name": "stdout",
     "output_type": "stream",
     "text": [
      "Error rate:  (100, 1)\n",
      "Real loss:  0.179529\n",
      "Error rate:  (100, 1)\n",
      "Real loss:  0.139346\n",
      "Error rate:  (100, 1)\n",
      "Real loss:  0.113846\n",
      "Error rate:  (100, 1)\n",
      "Real loss:  0.0416022\n",
      "Error rate:  (100, 1)\n",
      "Real loss:  0.0705337\n",
      "Error rate:  (100, 1)\n",
      "Real loss:  0.0233377\n",
      "Error rate:  (100, 1)\n",
      "Real loss:  0.0412272\n"
     ]
    }
   ],
   "source": [
    "\n",
    "for i in range(2000):\n",
    "    idx=np.random.choice(6000, replace=False, size=[100])\n",
    "    cur_train=train_data[idx,:,:]\n",
    "    cur_truth=train_truth[idx,:]\n",
    "    _,results, LN,losses=sess.run([train_op, logits, LS, loss], feed_dict={x:cur_train, y:cur_truth})\n",
    "    if (i%300==0):\n",
    "        print(\"Error rate: \", LN.shape)\n",
    "        print(\"Real loss: \",losses)"
   ]
  },
  {
   "cell_type": "code",
   "execution_count": 109,
   "metadata": {
    "collapsed": true
   },
   "outputs": [],
   "source": [
    "results, LN,losses=sess.run([logits, LS, loss], feed_dict={x:validation_data, y:validation_truth})"
   ]
  },
  {
   "cell_type": "code",
   "execution_count": 155,
   "metadata": {
    "collapsed": false
   },
   "outputs": [
    {
     "name": "stdout",
     "output_type": "stream",
     "text": [
      "3\n",
      "3.3775\n",
      "22.9005859375\n"
     ]
    },
    {
     "data": {
      "image/png": "[encoded data removed]",
      "text/plain": [
       "<matplotlib.figure.Figure at 0x7fa8f3f8e278>"
      ]
     },
     "metadata": {},
     "output_type": "display_data"
    }
   ],
   "source": [
    "rid=random.randint(0,1999)\n",
    "plt.imshow(validation_data[rid,:,:])\n",
    "print(validation_truth[rid,0])\n",
    "print(results[rid,0])\n",
    "print(np.mean(validation_data[rid,:,:])/5)"
   ]
  },
  {
   "cell_type": "markdown",
   "metadata": {},
   "source": [
    "# Training on final set"
   ]
  },
  {
   "cell_type": "code",
   "execution_count": 156,
   "metadata": {
    "collapsed": true
   },
   "outputs": [],
   "source": [
    "all_data=all_dataC\n",
    "\n",
    "train_data=all_data[0:6000, :,:]\n",
    "validation_data=all_data[6001:8000, :,:]\n",
    "test_data=all_data[8001:10000, :,:]"
   ]
  },
  {
   "cell_type": "code",
   "execution_count": 157,
   "metadata": {
    "collapsed": true
   },
   "outputs": [],
   "source": [
    "df=dfC\n",
    "\n",
    "all_truth=df['Blobs'].as_matrix()\n",
    "all_truth=all_truth.reshape(all_truth.shape[0], 1)\n",
    "train_truth=all_truth[0:6000, :]\n",
    "validation_truth=all_truth[6001:8000, :]\n",
    "test_truth=all_truth[8001:10000, :]"
   ]
  },
  {
   "cell_type": "code",
   "execution_count": 158,
   "metadata": {
    "collapsed": false
   },
   "outputs": [
    {
     "name": "stdout",
     "output_type": "stream",
     "text": [
      "Error rate:  (100, 1)\n",
      "Real loss:  43.493\n",
      "Error rate:  (100, 1)\n",
      "Real loss:  4.56503\n",
      "Error rate:  (100, 1)\n",
      "Real loss:  0.912461\n",
      "Error rate:  (100, 1)\n",
      "Real loss:  0.646822\n",
      "Error rate:  (100, 1)\n",
      "Real loss:  0.364031\n",
      "Error rate:  (100, 1)\n",
      "Real loss:  0.159516\n",
      "Error rate:  (100, 1)\n",
      "Real loss:  0.0914002\n"
     ]
    }
   ],
   "source": [
    "\n",
    "for i in range(2000):\n",
    "    idx=np.random.choice(6000, replace=False, size=[100])\n",
    "    cur_train=train_data[idx,:,:]\n",
    "    cur_truth=train_truth[idx,:]\n",
    "    _,results, LN,losses=sess.run([train_op, logits, LS, loss], feed_dict={x:cur_train, y:cur_truth})\n",
    "    if (i%300==0):\n",
    "        print(\"Error rate: \", LN.shape)\n",
    "        print(\"Real loss: \",losses)"
   ]
  },
  {
   "cell_type": "code",
   "execution_count": 159,
   "metadata": {
    "collapsed": false
   },
   "outputs": [
    {
     "data": {
      "text/plain": [
       "0.48283401"
      ]
     },
     "execution_count": 159,
     "metadata": {},
     "output_type": "execute_result"
    }
   ],
   "source": [
    "results, LN,losses=sess.run([logits, LS, loss], feed_dict={x:validation_data, y:validation_truth})\n",
    "losses"
   ]
  },
  {
   "cell_type": "code",
   "execution_count": 224,
   "metadata": {
    "collapsed": false
   },
   "outputs": [
    {
     "name": "stdout",
     "output_type": "stream",
     "text": [
      "8\n",
      "7.58809\n",
      "21.6808105469\n"
     ]
    },
    {
     "data": {
      "image/png": "[encoded data removed]",
      "text/plain": [
       "<matplotlib.figure.Figure at 0x7ff80278f8d0>"
      ]
     },
     "metadata": {},
     "output_type": "display_data"
    }
   ],
   "source": [
    "rid=random.randint(0,1999)\n",
    "plt.imshow(validation_data[rid,:,:])\n",
    "print(validation_truth[rid,0])\n",
    "print(results[rid,0])\n",
    "print(np.mean(validation_data[rid,:,:])/5)"
   ]
  },
  {
   "cell_type": "markdown",
   "metadata": {},
   "source": [
    "# Compare to simple mean"
   ]
  },
  {
   "cell_type": "code",
   "execution_count": 225,
   "metadata": {
    "collapsed": false
   },
   "outputs": [
    {
     "data": {
      "text/plain": [
       "(1999, 1)"
      ]
     },
     "execution_count": 225,
     "metadata": {},
     "output_type": "execute_result"
    }
   ],
   "source": [
    "validation_truth.shape"
   ]
  },
  {
   "cell_type": "code",
   "execution_count": 226,
   "metadata": {
    "collapsed": false
   },
   "outputs": [
    {
     "data": {
      "text/plain": [
       "<matplotlib.collections.PathCollection at 0x7ff802722f28>"
      ]
     },
     "execution_count": 226,
     "metadata": {},
     "output_type": "execute_result"
    },
    {
     "data": {
      "image/png": "[encoded data removed]",
      "text/plain": [
       "<matplotlib.figure.Figure at 0x7ff80290de10>"
      ]
     },
     "metadata": {},
     "output_type": "display_data"
    }
   ],
   "source": [
    "plt.scatter(np.mean(validation_data, axis=(1,2)), validation_truth[:,0])"
   ]
  },
  {
   "cell_type": "code",
   "execution_count": 227,
   "metadata": {
    "collapsed": false
   },
   "outputs": [
    {
     "data": {
      "text/plain": [
       "<matplotlib.collections.PathCollection at 0x7ff80243fac8>"
      ]
     },
     "execution_count": 227,
     "metadata": {},
     "output_type": "execute_result"
    },
    {
     "data": {
      "image/png": "[encoded data removed]",
      "text/plain": [
       "<matplotlib.figure.Figure at 0x7ff80239a080>"
      ]
     },
     "metadata": {},
     "output_type": "display_data"
    }
   ],
   "source": [
    "plt.scatter(np.mean(validation_data, axis=(1,2)), results[:,0])\n",
    "plt.scatter(np.mean(validation_data, axis=(1,2)), validation_truth[:,0])"
   ]
  },
  {
   "cell_type": "code",
   "execution_count": 232,
   "metadata": {
    "collapsed": false
   },
   "outputs": [
    {
     "data": {
      "text/plain": [
       "(array([[  98.,    0.,    0.,    0.,    0.,    0.,    0.,    0.,    0.,\n",
       "            0.],\n",
       "        [   2.,  209.,    3.,    0.,    0.,    0.,    0.,    0.,    0.,\n",
       "            0.],\n",
       "        [   0.,    9.,  215.,   10.,    0.,    0.,    0.,    0.,    0.,\n",
       "            0.],\n",
       "        [   0.,    0.,   12.,  195.,   20.,    0.,    0.,    0.,    0.,\n",
       "            0.],\n",
       "        [   0.,    0.,    0.,   27.,  192.,   34.,    0.,    0.,    0.,\n",
       "            0.],\n",
       "        [   0.,    0.,    0.,    0.,   34.,  214.,   37.,    0.,    0.,\n",
       "            0.],\n",
       "        [   0.,    0.,    0.,    0.,    3.,   46.,  206.,   40.,    0.,\n",
       "            0.],\n",
       "        [   0.,    0.,    0.,    0.,    0.,    3.,   56.,  146.,   21.,\n",
       "            0.],\n",
       "        [   0.,    0.,    0.,    0.,    0.,    0.,    7.,   38.,   69.,\n",
       "            9.],\n",
       "        [   0.,    0.,    0.,    0.,    0.,    0.,    0.,    1.,   15.,\n",
       "           28.]]),\n",
       " array([  0.,   1.,   2.,   3.,   4.,   5.,   6.,   7.,   8.,   9.,  10.]),\n",
       " array([  0.,   1.,   2.,   3.,   4.,   5.,   6.,   7.,   8.,   9.,  10.]),\n",
       " <matplotlib.image.AxesImage at 0x7ff802841908>)"
      ]
     },
     "execution_count": 232,
     "metadata": {},
     "output_type": "execute_result"
    },
    {
     "data": {
      "image/png": "[encoded data removed]",
      "text/plain": [
       "<matplotlib.figure.Figure at 0x7ff80294eeb8>"
      ]
     },
     "metadata": {},
     "output_type": "display_data"
    }
   ],
   "source": [
    "plt.hist2d(validation_truth[:,0], np.round(results[:,0]))"
   ]
  },
  {
   "cell_type": "code",
   "execution_count": null,
   "metadata": {
    "collapsed": true
   },
   "outputs": [],
   "source": []
  }
 ],
 "metadata": {
  "kernelspec": {
   "display_name": "Python 3",
   "language": "python",
   "name": "python3"
  },
  "language_info": {
   "codemirror_mode": {
    "name": "ipython",
    "version": 3
   },
   "file_extension": ".py",
   "mimetype": "text/x-python",
   "name": "python",
   "nbconvert_exporter": "python",
   "pygments_lexer": "ipython3",
   "version": "3.6.0"
  }
 },
 "nbformat": 4,
 "nbformat_minor": 2
}

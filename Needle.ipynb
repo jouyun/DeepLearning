{
 "cells": [
  {
   "cell_type": "code",
   "execution_count": 1,
   "metadata": {},
   "outputs": [],
   "source": [
    "%matplotlib inline\n",
    "import numpy as np\n",
    "import matplotlib.pyplot as plt\n",
    "import pandas as pd\n",
    "import tensorflow as tf\n",
    "from scipy.optimize import curve_fit\n",
    "from PIL import Image\n",
    "import random"
   ]
  },
  {
   "cell_type": "code",
   "execution_count": 2,
   "metadata": {},
   "outputs": [],
   "source": [
    "def leaky_relu(inp, alpha=0.2):\n",
    "    return tf.maximum(inp * alpha, inp)"
   ]
  },
  {
   "cell_type": "code",
   "execution_count": 346,
   "metadata": {},
   "outputs": [],
   "source": [
    "no_of_samples=30000\n",
    "sample_length=500\n",
    "\n",
    "samples=[''.join(random.choices(['0', '1', '2', '3'], k=sample_length)) for n in range(0,no_of_samples)]"
   ]
  },
  {
   "cell_type": "code",
   "execution_count": 347,
   "metadata": {
    "scrolled": true
   },
   "outputs": [
    {
     "data": {
      "text/plain": [
       "15111"
      ]
     },
     "execution_count": 347,
     "metadata": {},
     "output_type": "execute_result"
    }
   ],
   "source": [
    "needle_size=8\n",
    "\n",
    "needle=''.join(random.choices(['0','1','2','3'], k=needle_size))\n",
    "\n",
    "insert_count=15000\n",
    "idx=np.random.randint(0,sample_length-needle_size-1,size=insert_count)\n",
    "for i in range(0,insert_count):\n",
    "    samples[i]=samples[i][0:idx[i]]+needle+samples[i][idx[i]+needle_size:]\n",
    "\n",
    "truth=np.array([needle in samples[n] for n in range(0,len(samples))]).astype(int)\n",
    "truth=np.reshape(truth, [truth.shape[0],1])\n",
    "np.sum(truth)"
   ]
  },
  {
   "cell_type": "code",
   "execution_count": 348,
   "metadata": {},
   "outputs": [],
   "source": [
    "data=np.stack([[ np.eye(4)[int(samples[n][m])] for m in range(0,sample_length)] for n in range(0,len(samples))])\n",
    "data=np.reshape(data, [data.shape[0], data.shape[1], 1, data.shape[2]])"
   ]
  },
  {
   "cell_type": "code",
   "execution_count": 349,
   "metadata": {},
   "outputs": [],
   "source": [
    "samples_test=[''.join(random.choices(['0', '1', '2', '3'], k=sample_length)) for n in range(0,1000)]\n",
    "\n",
    "insert_count=500\n",
    "idx=np.random.randint(0,sample_length-needle_size-1,size=insert_count)\n",
    "for i in range(0,insert_count):\n",
    "    samples_test[i]=samples_test[i][0:idx[i]]+needle+samples_test[i][idx[i]+needle_size:]\n",
    "\n",
    "truth_test=np.array([needle in samples_test[n] for n in range(0,len(samples_test))]).astype(int)\n",
    "data_test=np.stack([[ np.eye(4)[int(samples_test[n][m])] for m in range(0,sample_length)] for n in range(0,len(samples_test))])\n",
    "\n",
    "truth_test=np.reshape(truth_test, [truth_test.shape[0],1])\n",
    "data_test=np.reshape(data_test, [data_test.shape[0], data_test.shape[1], 1, data_test.shape[2]])"
   ]
  },
  {
   "cell_type": "code",
   "execution_count": 350,
   "metadata": {},
   "outputs": [
    {
     "name": "stdout",
     "output_type": "stream",
     "text": [
      "(?, 32000)\n"
     ]
    }
   ],
   "source": [
    "tf.reset_default_graph()\n",
    "#Input and output\n",
    "x=tf.placeholder(dtype=tf.float32, shape=[None, sample_length,1,4])\n",
    "y=tf.placeholder(dtype=tf.float32, shape=[None,1])\n",
    "\n",
    "lr=tf.placeholder(dtype=tf.float32, shape=[], name='learning_rate')\n",
    "\n",
    "xr=x\n",
    "yr=y\n",
    "\n",
    "base_scaler=64\n",
    "\n",
    "#Going down\n",
    "A1=leaky_relu(tf.layers.conv2d(xr, base_scaler, [3,1], padding='SAME', dilation_rate=1))\n",
    "A2=leaky_relu(tf.layers.conv2d(A1, base_scaler, [3,1], padding='SAME', dilation_rate=2))\n",
    "A3=leaky_relu(tf.layers.conv2d(A2, base_scaler, [3,1], padding='SAME', dilation_rate=3))\n",
    "A4=leaky_relu(tf.layers.conv2d(A3, base_scaler, [3,1], padding='SAME', dilation_rate=4))\n",
    "A5=leaky_relu(tf.layers.conv2d(A4, base_scaler, [3,1], padding='SAME', dilation_rate=5))\n",
    "A6=leaky_relu(tf.layers.conv2d(A5, base_scaler, [3,1], padding='SAME', dilation_rate=6))\n",
    "Flat=tf.layers.flatten(A4)\n",
    "\n",
    "print(Flat.get_shape())\n",
    "\n",
    "dense1=tf.layers.dense(Flat, units=5)\n",
    "dense2=tf.layers.dense(dense1, units=2)\n",
    "logits=leaky_relu(tf.layers.dense(dense2, units=1))\n",
    "\n",
    "diff=tf.subtract(yr,logits)\n",
    "LSQ=tf.multiply(diff,diff)\n",
    "loss=tf.reduce_mean(LSQ)\n",
    "train_op=tf.train.AdamOptimizer(learning_rate=lr).minimize(loss)"
   ]
  },
  {
   "cell_type": "code",
   "execution_count": 351,
   "metadata": {},
   "outputs": [
    {
     "name": "stdout",
     "output_type": "stream",
     "text": [
      "[0, 2793.8374, 0.38296103, 5.488803]\n",
      "[100, 463.86743, 0.24091879, 0.24980493]\n",
      "[200, 509.88956, 0.23452158, 0.24671988]\n",
      "[300, 663.5762, 0.21745227, 0.27108657]\n",
      "[400, 565.17224, 0.209082, 0.24803105]\n",
      "[500, 618.8258, 0.18465322, 0.25385347]\n",
      "[600, 498.90546, 0.16294636, 0.22108081]\n",
      "[700, 483.75845, 0.12918392, 0.16190134]\n",
      "[800, 508.74164, 0.058573533, 0.08381631]\n",
      "[900, 453.13712, 0.031818673, 0.043534707]\n",
      "[1000, 478.61844, 0.012360641, 0.02801716]\n",
      "[1100, 425.31708, 0.011867799, 0.028781736]\n",
      "[1200, 482.28906, 0.008696612, 0.01767406]\n",
      "[1300, 419.86722, 0.023456817, 0.024732541]\n",
      "[1400, 484.28296, 0.008987884, 0.013722212]\n",
      "[1500, 476.96603, 0.006843269, 0.013547049]\n",
      "[1600, 577.33826, 0.0043352596, 0.01791769]\n",
      "[1700, 482.86713, 0.005374559, 0.011755422]\n",
      "[1800, 430.19363, 0.005894857, 0.017720332]\n",
      "[1900, 415.88452, 0.01221275, 0.020581055]\n",
      "[2000, 534.53094, 0.004613353, 0.011345279]\n",
      "[2100, 497.4315, 0.0030265294, 0.01054783]\n",
      "[2200, 466.45016, 0.0035923219, 0.011667176]\n",
      "[2300, 496.08557, 0.0032411062, 0.0099130375]\n",
      "[2400, 502.31494, 0.002474906, 0.0096377665]\n",
      "[2500, 466.92493, 0.004369375, 0.011665686]\n",
      "[2600, 473.27228, 0.0026234789, 0.010764114]\n",
      "[2700, 534.11597, 0.002718403, 0.010481924]\n",
      "[2800, 504.37228, 0.0015517413, 0.009270774]\n",
      "[2900, 522.7346, 0.0042547686, 0.010287174]\n",
      "[3000, 500.45865, 0.0019655928, 0.009394449]\n",
      "[3100, 502.8215, 0.0025086044, 0.009750712]\n",
      "[3200, 484.85214, 0.002179712, 0.009716477]\n",
      "[3300, 498.01495, 0.0017755432, 0.009172483]\n",
      "[3400, 517.7523, 0.002537421, 0.009460993]\n",
      "[3500, 617.4643, 0.007406583, 0.034322646]\n",
      "[3600, 498.68484, 0.0011351943, 0.00926839]\n",
      "[3700, 492.56912, 0.0014814468, 0.0094983205]\n",
      "[3800, 508.44977, 0.001111438, 0.009615097]\n",
      "[3900, 521.7324, 0.0013515976, 0.010165518]\n",
      "[4000, 478.78165, 0.0012309466, 0.010233038]\n",
      "[4100, 492.02106, 0.0013231508, 0.009655049]\n",
      "[4200, 489.44205, 0.0013689201, 0.009377433]\n",
      "[4300, 529.7061, 0.001090015, 0.010281542]\n",
      "[4400, 491.63016, 0.00091873645, 0.009568928]\n",
      "[4500, 476.3544, 0.0017434773, 0.010255767]\n",
      "[4600, 504.2284, 0.0017166414, 0.0095759975]\n",
      "[4700, 480.071, 0.0014789561, 0.010222944]\n",
      "[4800, 495.21542, 0.00067757786, 0.00955576]\n",
      "[4900, 514.69354, 0.00075612345, 0.009830492]\n"
     ]
    }
   ],
   "source": [
    "tf.set_random_seed(123456)\n",
    "sess=tf.Session()\n",
    "sess.run(tf.global_variables_initializer())\n",
    "for f in range(0,5000):\n",
    "    idx=np.random.choice(no_of_samples, replace=False, size=[400])\n",
    "    cur_train=data[idx,:,:]\n",
    "    cur_truth=truth[idx,:]\n",
    "    _,results, losses=sess.run([train_op, logits, loss], feed_dict={x:cur_train, y:cur_truth, lr:0.001})\n",
    "    if (f%100==0):\n",
    "        res, valid_loss=sess.run([logits,loss], feed_dict={x:data_test, y:truth_test})\n",
    "        print([f,np.sum(res), losses, valid_loss])\n",
    "    "
   ]
  },
  {
   "cell_type": "code",
   "execution_count": 352,
   "metadata": {},
   "outputs": [
    {
     "data": {
      "text/plain": [
       "(array([  0,   1,   2,   3,   4,   5,   6,   7,   8,   9,  10,  11,  12,\n",
       "         13,  14,  15,  16,  17,  18,  19,  20,  21,  22,  23,  24,  25,\n",
       "         26,  27,  28,  29,  30,  31,  32,  33,  34,  35,  36,  37,  38,\n",
       "         39,  40,  41,  42,  43,  44,  45,  46,  47,  48,  49,  50,  51,\n",
       "         52,  53,  54,  55,  56,  57,  58,  59,  60,  61,  62,  63,  64,\n",
       "         65,  66,  67,  68,  69,  70,  71,  72,  73,  74,  75,  76,  77,\n",
       "         78,  79,  80,  81,  82,  83,  84,  85,  86,  87,  88,  89,  90,\n",
       "         91,  92,  93,  94,  95,  96,  97,  98,  99, 100, 101, 102, 103,\n",
       "        104, 105, 106, 107, 108, 109, 110, 111, 112, 113, 114, 115, 116,\n",
       "        117, 118, 119, 120, 121, 122, 123, 124, 125, 126, 127, 128, 129,\n",
       "        130, 131, 132, 133, 134, 135, 136, 137, 138, 139, 140, 141, 142,\n",
       "        143, 144, 145, 146, 147, 148, 149, 150, 151, 152, 153, 154, 155,\n",
       "        156, 157, 158, 159, 160, 161, 162, 163, 164, 165, 166, 167, 168,\n",
       "        169, 170, 171, 172, 173, 174, 175, 176, 177, 178, 179, 180, 181,\n",
       "        182, 183, 184, 185, 186, 187, 188, 189, 190, 191, 192, 193, 194,\n",
       "        195, 196, 197, 198, 199, 200, 201, 202, 203, 204, 205, 206, 207,\n",
       "        208, 209, 210, 211, 212, 213, 214, 215, 216, 217, 218, 219, 220,\n",
       "        221, 222, 223, 224, 225, 226, 227, 228, 229, 230, 231, 232, 233,\n",
       "        234, 235, 236, 237, 238, 239, 240, 241, 242, 243, 244, 245, 246,\n",
       "        247, 248, 249, 250, 251, 252, 253, 254, 255, 256, 257, 258, 259,\n",
       "        260, 261, 262, 263, 264, 265, 266, 267, 268, 269, 270, 271, 272,\n",
       "        273, 274, 275, 276, 277, 278, 279, 280, 281, 282, 283, 284, 285,\n",
       "        286, 287, 288, 289, 290, 291, 292, 293, 294, 295, 296, 297, 298,\n",
       "        299, 300, 301, 302, 303, 304, 305, 306, 307, 308, 309, 310, 311,\n",
       "        312, 313, 314, 315, 316, 317, 318, 319, 320, 321, 322, 323, 324,\n",
       "        325, 326, 327, 328, 329, 330, 331, 332, 333, 334, 335, 336, 337,\n",
       "        338, 339, 340, 341, 342, 343, 344, 345, 346, 347, 348, 349, 350,\n",
       "        351, 352, 353, 354, 355, 356, 357, 358, 359, 360, 361, 362, 363,\n",
       "        364, 365, 366, 367, 368, 369, 370, 371, 372, 373, 374, 375, 376,\n",
       "        377, 378, 379, 380, 381, 382, 383, 384, 385, 386, 387, 388, 389,\n",
       "        390, 391, 392, 393, 394, 395, 396, 397, 398, 399, 400, 401, 402,\n",
       "        403, 404, 405, 406, 407, 408, 409, 410, 411, 412, 413, 414, 415,\n",
       "        416, 417, 418, 419, 420, 421, 422, 423, 424, 425, 426, 427, 428,\n",
       "        429, 430, 431, 432, 433, 434, 435, 436, 437, 438, 439, 440, 441,\n",
       "        442, 443, 444, 445, 446, 447, 448, 449, 450, 451, 452, 453, 454,\n",
       "        455, 456, 457, 458, 459, 460, 461, 462, 463, 464, 465, 466, 467,\n",
       "        468, 469, 470, 471, 472, 473, 474, 475, 476, 477, 478, 479, 480,\n",
       "        481, 482, 483, 484, 485, 486, 487, 488, 489, 490, 491, 492, 493,\n",
       "        494, 495, 496, 497, 498, 499, 665, 692, 728, 748, 992]),)"
      ]
     },
     "execution_count": 352,
     "metadata": {},
     "output_type": "execute_result"
    }
   ],
   "source": [
    "results, losses=sess.run([logits, loss], feed_dict={x:data_test, y:truth_test})\n",
    "np.where(results[:,0]>0.5)"
   ]
  },
  {
   "cell_type": "code",
   "execution_count": 353,
   "metadata": {},
   "outputs": [
    {
     "data": {
      "text/plain": [
       "(array([  0,   1,   2,   3,   4,   5,   6,   7,   8,   9,  10,  11,  12,\n",
       "         13,  14,  15,  16,  17,  18,  19,  20,  21,  22,  23,  24,  25,\n",
       "         26,  27,  28,  29,  30,  31,  32,  33,  34,  35,  36,  37,  38,\n",
       "         39,  40,  41,  42,  43,  44,  45,  46,  47,  48,  49,  50,  51,\n",
       "         52,  53,  54,  55,  56,  57,  58,  59,  60,  61,  62,  63,  64,\n",
       "         65,  66,  67,  68,  69,  70,  71,  72,  73,  74,  75,  76,  77,\n",
       "         78,  79,  80,  81,  82,  83,  84,  85,  86,  87,  88,  89,  90,\n",
       "         91,  92,  93,  94,  95,  96,  97,  98,  99, 100, 101, 102, 103,\n",
       "        104, 105, 106, 107, 108, 109, 110, 111, 112, 113, 114, 115, 116,\n",
       "        117, 118, 119, 120, 121, 122, 123, 124, 125, 126, 127, 128, 129,\n",
       "        130, 131, 132, 133, 134, 135, 136, 137, 138, 139, 140, 141, 142,\n",
       "        143, 144, 145, 146, 147, 148, 149, 150, 151, 152, 153, 154, 155,\n",
       "        156, 157, 158, 159, 160, 161, 162, 163, 164, 165, 166, 167, 168,\n",
       "        169, 170, 171, 172, 173, 174, 175, 176, 177, 178, 179, 180, 181,\n",
       "        182, 183, 184, 185, 186, 187, 188, 189, 190, 191, 192, 193, 194,\n",
       "        195, 196, 197, 198, 199, 200, 201, 202, 203, 204, 205, 206, 207,\n",
       "        208, 209, 210, 211, 212, 213, 214, 215, 216, 217, 218, 219, 220,\n",
       "        221, 222, 223, 224, 225, 226, 227, 228, 229, 230, 231, 232, 233,\n",
       "        234, 235, 236, 237, 238, 239, 240, 241, 242, 243, 244, 245, 246,\n",
       "        247, 248, 249, 250, 251, 252, 253, 254, 255, 256, 257, 258, 259,\n",
       "        260, 261, 262, 263, 264, 265, 266, 267, 268, 269, 270, 271, 272,\n",
       "        273, 274, 275, 276, 277, 278, 279, 280, 281, 282, 283, 284, 285,\n",
       "        286, 287, 288, 289, 290, 291, 292, 293, 294, 295, 296, 297, 298,\n",
       "        299, 300, 301, 302, 303, 304, 305, 306, 307, 308, 309, 310, 311,\n",
       "        312, 313, 314, 315, 316, 317, 318, 319, 320, 321, 322, 323, 324,\n",
       "        325, 326, 327, 328, 329, 330, 331, 332, 333, 334, 335, 336, 337,\n",
       "        338, 339, 340, 341, 342, 343, 344, 345, 346, 347, 348, 349, 350,\n",
       "        351, 352, 353, 354, 355, 356, 357, 358, 359, 360, 361, 362, 363,\n",
       "        364, 365, 366, 367, 368, 369, 370, 371, 372, 373, 374, 375, 376,\n",
       "        377, 378, 379, 380, 381, 382, 383, 384, 385, 386, 387, 388, 389,\n",
       "        390, 391, 392, 393, 394, 395, 396, 397, 398, 399, 400, 401, 402,\n",
       "        403, 404, 405, 406, 407, 408, 409, 410, 411, 412, 413, 414, 415,\n",
       "        416, 417, 418, 419, 420, 421, 422, 423, 424, 425, 426, 427, 428,\n",
       "        429, 430, 431, 432, 433, 434, 435, 436, 437, 438, 439, 440, 441,\n",
       "        442, 443, 444, 445, 446, 447, 448, 449, 450, 451, 452, 453, 454,\n",
       "        455, 456, 457, 458, 459, 460, 461, 462, 463, 464, 465, 466, 467,\n",
       "        468, 469, 470, 471, 472, 473, 474, 475, 476, 477, 478, 479, 480,\n",
       "        481, 482, 483, 484, 485, 486, 487, 488, 489, 490, 491, 492, 493,\n",
       "        494, 495, 496, 497, 498, 499, 665, 692, 728, 748, 992]),)"
      ]
     },
     "execution_count": 353,
     "metadata": {},
     "output_type": "execute_result"
    }
   ],
   "source": [
    "np.where(truth_test[:,0]==1)"
   ]
  },
  {
   "cell_type": "code",
   "execution_count": null,
   "metadata": {
    "collapsed": true
   },
   "outputs": [],
   "source": []
  },
  {
   "cell_type": "code",
   "execution_count": null,
   "metadata": {},
   "outputs": [],
   "source": []
  }
 ],
 "metadata": {
  "kernelspec": {
   "display_name": "Python 3",
   "language": "python",
   "name": "python3"
  },
  "language_info": {
   "codemirror_mode": {
    "name": "ipython",
    "version": 3
   },
   "file_extension": ".py",
   "mimetype": "text/x-python",
   "name": "python",
   "nbconvert_exporter": "python",
   "pygments_lexer": "ipython3",
   "version": "3.6.8"
  }
 },
 "nbformat": 4,
 "nbformat_minor": 2
}

{
 "cells": [
  {
   "cell_type": "markdown",
   "metadata": {},
   "source": [
    "# Finding blobs in 64x64 images using Unet, Conv3d"
   ]
  },
  {
   "cell_type": "code",
   "execution_count": 1,
   "metadata": {
    "collapsed": true
   },
   "outputs": [],
   "source": [
    "%matplotlib inline\n",
    "import numpy as np\n",
    "import matplotlib.pyplot as plt\n",
    "import pandas as pd\n",
    "import tensorflow as tf\n",
    "from scipy.optimize import curve_fit\n",
    "from PIL import Image\n",
    "import random"
   ]
  },
  {
   "cell_type": "markdown",
   "metadata": {},
   "source": [
    "# Get data"
   ]
  },
  {
   "cell_type": "markdown",
   "metadata": {},
   "source": [
    "Data reading function"
   ]
  },
  {
   "cell_type": "code",
   "execution_count": 2,
   "metadata": {
    "collapsed": true
   },
   "outputs": [],
   "source": [
    "def read_tiff(path, n_images):\n",
    "    \"\"\"\n",
    "    path - Path to the multipage-tiff file\n",
    "    n_images - Number of pages in the tiff file\n",
    "    \"\"\"\n",
    "    img = Image.open(path)\n",
    "    images = []\n",
    "    for i in range(n_images):\n",
    "        try:\n",
    "            img.seek(i)\n",
    "            slice_ = np.zeros((img.height, img.width))\n",
    "            for j in range(slice_.shape[0]):\n",
    "                for k in range(slice_.shape[1]):\n",
    "                    slice_[j,k] = img.getpixel((j, k))\n",
    "\n",
    "            images.append(slice_)\n",
    "\n",
    "        except EOFError:\n",
    "            # Not enough frames in img\n",
    "            break\n",
    "\n",
    "    return np.array(images)"
   ]
  },
  {
   "cell_type": "code",
   "execution_count": 3,
   "metadata": {
    "collapsed": true
   },
   "outputs": [],
   "source": [
    "def leaky_relu(inp, alpha=0.2):\n",
    "    return tf.maximum(inp * alpha, inp)\n",
    "    "
   ]
  },
  {
   "cell_type": "markdown",
   "metadata": {},
   "source": [
    "Read in blobs tiff"
   ]
  },
  {
   "cell_type": "code",
   "execution_count": 4,
   "metadata": {},
   "outputs": [],
   "source": [
    "all_dataA=read_tiff('3DBlobsB.tif',3200)\n",
    "all_dataA=all_dataA.reshape(100,32,64,64)"
   ]
  },
  {
   "cell_type": "code",
   "execution_count": 5,
   "metadata": {},
   "outputs": [],
   "source": [
    "all_truthsA=read_tiff('3DBlobsMaskTruthB.tif',3200)\n",
    "all_truthsA=all_truthsA.reshape(100,32,64,64)"
   ]
  },
  {
   "cell_type": "code",
   "execution_count": 24,
   "metadata": {
    "collapsed": true
   },
   "outputs": [],
   "source": [
    "all_truthsB=read_tiff('3DBlobsOutlinesTruthB.tif',3200)\n",
    "all_truthsB=all_truthsB.reshape(100,32,64,64)"
   ]
  },
  {
   "cell_type": "markdown",
   "metadata": {},
   "source": [
    "Read in truth table"
   ]
  },
  {
   "cell_type": "markdown",
   "metadata": {},
   "source": [
    "# Design network"
   ]
  },
  {
   "cell_type": "markdown",
   "metadata": {},
   "source": [
    "Define a function to create a convolutional layer, including conv, relu, maxpool, that can be called multiple times"
   ]
  },
  {
   "cell_type": "code",
   "execution_count": 39,
   "metadata": {},
   "outputs": [],
   "source": [
    "#Input and output\n",
    "x=tf.placeholder(dtype=tf.float32, shape=[None, 32, 64,64])\n",
    "y=tf.placeholder(dtype=tf.float32, shape=[None, 32, 64,64,2])\n",
    "\n",
    "xr=tf.reshape(x, [-1, 32, 64,64,1])\n",
    "yr=y\n",
    "\n",
    "base_scaler=32\n",
    "\n",
    "#Going down\n",
    "A1=leaky_relu(tf.contrib.layers.conv3d(xr, base_scaler, [3,3,3], padding='SAME'))\n",
    "A2=leaky_relu(tf.contrib.layers.conv3d(A1, base_scaler, [3,3,3], padding='SAME'))\n",
    "\n",
    "B0=tf.nn.max_pool3d(A2, ksize=[1,1,2,2,1], strides=[1,1,2,2,1], padding='SAME')\n",
    "B1=leaky_relu(tf.contrib.layers.conv3d(B0, 2*base_scaler, [3,3,3], padding='SAME'))\n",
    "B2=leaky_relu(tf.contrib.layers.conv3d(B1, 2*base_scaler, [3,3,3], padding='SAME'))\n",
    "\n",
    "C0=tf.nn.max_pool3d(B2, ksize=[1,2,2,2,1], strides=[1,2,2,2,1], padding='SAME')\n",
    "C1=leaky_relu(tf.contrib.layers.conv3d(C0, 4*base_scaler, [3,3,3], padding='SAME'))\n",
    "C2=leaky_relu(tf.contrib.layers.conv3d(C1, 4*base_scaler, [3,3,3], padding='SAME'))\n",
    "\n",
    "D0=tf.nn.max_pool3d(C2, ksize=[1,1,2,2,1], strides=[1,2,2,2,1], padding='SAME')\n",
    "D1=leaky_relu(tf.contrib.layers.conv3d(D0, 8*base_scaler, [3,3,3], padding='SAME'))\n",
    "D2=leaky_relu(tf.contrib.layers.conv3d(D1, 8*base_scaler, [3,3,3], padding='SAME'))\n",
    "\n",
    "E0=tf.nn.max_pool3d(D2, ksize=[1,2,2,2,1], strides=[1,2,2,2,1], padding='SAME')\n",
    "E1=leaky_relu(tf.contrib.layers.conv3d(E0, 16*base_scaler, [3,3,3], padding='SAME'))\n",
    "E2=leaky_relu(tf.contrib.layers.conv3d(E1, 16*base_scaler, [3,3,3], padding='SAME'))\n",
    "\n",
    "\n",
    "\n",
    "#Coming up\n",
    "DD0=tf.layers.conv3d_transpose(E2, 8*base_scaler, kernel_size=[3,3,3], strides=[2,2,2], padding='SAME', use_bias=False)\n",
    "DD1=tf.concat(axis=4, values=[DD0,D2])\n",
    "DD2=leaky_relu(tf.contrib.layers.conv3d(DD1, 8*base_scaler, [3,3,3], padding='SAME'))\n",
    "DD3=leaky_relu(tf.contrib.layers.conv3d(DD2, 8*base_scaler, [3,3,3], padding='SAME'))\n",
    "\n",
    "CC0=tf.layers.conv3d_transpose(DD3, 4*base_scaler, kernel_size=[3,3,3], strides=[2,2, 2], padding='SAME', use_bias=False)\n",
    "CC1=tf.concat(axis=4, values=[CC0,C2])\n",
    "CC2=leaky_relu(tf.contrib.layers.conv3d(CC1, 4*base_scaler, [3,3,3], padding='SAME'))\n",
    "CC3=leaky_relu(tf.contrib.layers.conv3d(CC2, 4*base_scaler, [3,3,3], padding='SAME'))\n",
    "\n",
    "BB0=tf.layers.conv3d_transpose(CC3, 2*base_scaler, kernel_size=[3,3,3], strides=[2,2, 2], padding='SAME', use_bias=False)\n",
    "BB1=tf.concat(axis=4, values=[BB0,B2])\n",
    "BB2=leaky_relu(tf.contrib.layers.conv3d(BB1, 2*base_scaler, [3,3,3], padding='SAME'))\n",
    "BB3=leaky_relu(tf.contrib.layers.conv3d(BB2, 2*base_scaler, [3,3,3], padding='SAME'))\n",
    "\n",
    "AA0=tf.layers.conv3d_transpose(BB3, base_scaler, kernel_size=[3,3,3], strides=[1,2, 2], padding='SAME', use_bias=False)\n",
    "AA1=tf.concat(axis=4, values=[AA0,A2])\n",
    "AA2=leaky_relu(tf.contrib.layers.conv3d(AA1, base_scaler, [3,3,3], padding='SAME'))\n",
    "AA3=leaky_relu(tf.contrib.layers.conv3d(AA2, base_scaler, [3,3,3], padding='SAME'))\n",
    "\n",
    "logits=leaky_relu(tf.contrib.layers.conv3d(AA3, 2, [1,1,1], padding='SAME'))\n",
    "probs=tf.tanh(logits)\n",
    "\n",
    "diff=tf.subtract(probs, yr)\n",
    "LSQ=tf.multiply(diff,diff)\n",
    "loss=tf.reduce_mean(LSQ)\n",
    "\n",
    "train_op=tf.train.AdamOptimizer(learning_rate=0.0001).minimize(loss)\n",
    "\n"
   ]
  },
  {
   "cell_type": "markdown",
   "metadata": {},
   "source": [
    "# Training on easy set"
   ]
  },
  {
   "cell_type": "code",
   "execution_count": 40,
   "metadata": {
    "collapsed": true
   },
   "outputs": [],
   "source": [
    "all_data=(all_dataA)/255.0\n",
    "\n",
    "train_data=all_data[0:95, :,:,:]\n",
    "validation_data=all_data[96:99,:, :,:]\n"
   ]
  },
  {
   "cell_type": "code",
   "execution_count": 41,
   "metadata": {},
   "outputs": [],
   "source": [
    "all_truths=np.concatenate((all_truthsA.reshape([100,32,64,64,1]), all_truthsB.reshape([100,32, 64, 64, 1])), axis=4)/255.0\n",
    "\n",
    "train_truth=all_truths[0:95, :,:,:,:]\n",
    "validation_truth=all_truths[96:99, :,:,:, :]\n"
   ]
  },
  {
   "cell_type": "code",
   "execution_count": 42,
   "metadata": {},
   "outputs": [
    {
     "name": "stdout",
     "output_type": "stream",
     "text": [
      "Error rate:  (?, 32, 64, 64, 2)\n",
      "Real loss:  0.05620174\n",
      "Error rate:  (?, 32, 64, 64, 2)\n",
      "Real loss:  0.04807124\n",
      "Error rate:  (?, 32, 64, 64, 2)\n",
      "Real loss:  0.044117175\n",
      "Error rate:  (?, 32, 64, 64, 2)\n",
      "Real loss:  0.041503854\n",
      "Error rate:  (?, 32, 64, 64, 2)\n",
      "Real loss:  0.036442533\n",
      "Error rate:  (?, 32, 64, 64, 2)\n",
      "Real loss:  0.035638053\n",
      "Error rate:  (?, 32, 64, 64, 2)\n",
      "Real loss:  0.03347412\n",
      "Error rate:  (?, 32, 64, 64, 2)\n",
      "Real loss:  0.02925587\n",
      "Error rate:  (?, 32, 64, 64, 2)\n",
      "Real loss:  0.024940867\n",
      "Error rate:  (?, 32, 64, 64, 2)\n",
      "Real loss:  0.022801852\n",
      "Error rate:  (?, 32, 64, 64, 2)\n",
      "Real loss:  0.019708354\n",
      "Error rate:  (?, 32, 64, 64, 2)\n",
      "Real loss:  0.016775077\n",
      "Error rate:  (?, 32, 64, 64, 2)\n",
      "Real loss:  0.013658849\n",
      "Error rate:  (?, 32, 64, 64, 2)\n",
      "Real loss:  0.011535068\n",
      "Error rate:  (?, 32, 64, 64, 2)\n",
      "Real loss:  0.010259951\n",
      "Error rate:  (?, 32, 64, 64, 2)\n",
      "Real loss:  0.009291284\n",
      "Error rate:  (?, 32, 64, 64, 2)\n",
      "Real loss:  0.008519271\n",
      "Error rate:  (?, 32, 64, 64, 2)\n",
      "Real loss:  0.007872547\n",
      "Error rate:  (?, 32, 64, 64, 2)\n",
      "Real loss:  0.0072191833\n",
      "Error rate:  (?, 32, 64, 64, 2)\n",
      "Real loss:  0.006876285\n",
      "Error rate:  (?, 32, 64, 64, 2)\n",
      "Real loss:  0.0065917945\n",
      "Error rate:  (?, 32, 64, 64, 2)\n",
      "Real loss:  0.006230002\n",
      "Error rate:  (?, 32, 64, 64, 2)\n",
      "Real loss:  0.0059973504\n",
      "Error rate:  (?, 32, 64, 64, 2)\n",
      "Real loss:  0.0054547773\n",
      "Error rate:  (?, 32, 64, 64, 2)\n",
      "Real loss:  0.005152239\n",
      "Error rate:  (?, 32, 64, 64, 2)\n",
      "Real loss:  0.0051080766\n",
      "Error rate:  (?, 32, 64, 64, 2)\n",
      "Real loss:  0.005156961\n",
      "Error rate:  (?, 32, 64, 64, 2)\n",
      "Real loss:  0.0049853586\n",
      "Error rate:  (?, 32, 64, 64, 2)\n",
      "Real loss:  0.0047524716\n",
      "Error rate:  (?, 32, 64, 64, 2)\n",
      "Real loss:  0.0043521444\n",
      "Error rate:  (?, 32, 64, 64, 2)\n",
      "Real loss:  0.0045958813\n",
      "Error rate:  (?, 32, 64, 64, 2)\n",
      "Real loss:  0.004324162\n",
      "Error rate:  (?, 32, 64, 64, 2)\n",
      "Real loss:  0.0043476224\n",
      "Error rate:  (?, 32, 64, 64, 2)\n",
      "Real loss:  0.004081895\n",
      "Error rate:  (?, 32, 64, 64, 2)\n",
      "Real loss:  0.0039957548\n",
      "Error rate:  (?, 32, 64, 64, 2)\n",
      "Real loss:  0.00422053\n",
      "Error rate:  (?, 32, 64, 64, 2)\n",
      "Real loss:  0.0043063164\n",
      "Error rate:  (?, 32, 64, 64, 2)\n",
      "Real loss:  0.0036499857\n",
      "Error rate:  (?, 32, 64, 64, 2)\n",
      "Real loss:  0.0036187328\n",
      "Error rate:  (?, 32, 64, 64, 2)\n",
      "Real loss:  0.003403893\n",
      "Error rate:  (?, 32, 64, 64, 2)\n",
      "Real loss:  0.0033202404\n",
      "Error rate:  (?, 32, 64, 64, 2)\n",
      "Real loss:  0.0033987754\n",
      "Error rate:  (?, 32, 64, 64, 2)\n",
      "Real loss:  0.0033339565\n",
      "Error rate:  (?, 32, 64, 64, 2)\n",
      "Real loss:  0.0034533518\n",
      "Error rate:  (?, 32, 64, 64, 2)\n",
      "Real loss:  0.003130018\n",
      "Error rate:  (?, 32, 64, 64, 2)\n",
      "Real loss:  0.0030804607\n",
      "Error rate:  (?, 32, 64, 64, 2)\n",
      "Real loss:  0.0033612195\n",
      "Error rate:  (?, 32, 64, 64, 2)\n",
      "Real loss:  0.003140343\n",
      "Error rate:  (?, 32, 64, 64, 2)\n",
      "Real loss:  0.0029778245\n",
      "Error rate:  (?, 32, 64, 64, 2)\n",
      "Real loss:  0.0028117192\n"
     ]
    }
   ],
   "source": [
    "tf.set_random_seed(123456)\n",
    "sess=tf.Session()\n",
    "sess.run(tf.global_variables_initializer())\n",
    "\n",
    "for i in range(500):\n",
    "    idx=np.random.choice(95, replace=False, size=[10])\n",
    "    cur_train=train_data[idx,:,:,:]\n",
    "    cur_truth=train_truth[idx,:,:,:,:]\n",
    "    _,results, LN,losses=sess.run([train_op, logits, probs, loss], feed_dict={x:cur_train, y:cur_truth})\n",
    "    if (i%30==0):\n",
    "        print(\"Error rate: \", logits.shape)\n",
    "        print(\"Real loss: \",losses)"
   ]
  },
  {
   "cell_type": "markdown",
   "metadata": {},
   "source": [
    "# Trying validation data"
   ]
  },
  {
   "cell_type": "code",
   "execution_count": 50,
   "metadata": {},
   "outputs": [
    {
     "data": {
      "text/plain": [
       "0.003217867"
      ]
     },
     "execution_count": 50,
     "metadata": {},
     "output_type": "execute_result"
    }
   ],
   "source": [
    "sub_range=range(0,3)\n",
    "sub_validation_data=validation_data[sub_range, :,:,:]\n",
    "sub_validation_truth=validation_truth[sub_range, :,:,:, :]\n",
    "results, LN,losses=sess.run([probs, LSQ, loss], feed_dict={x:sub_validation_data, y:sub_validation_truth})\n",
    "losses"
   ]
  },
  {
   "cell_type": "code",
   "execution_count": 74,
   "metadata": {},
   "outputs": [
    {
     "name": "stdout",
     "output_type": "stream",
     "text": [
      "41\n"
     ]
    },
    {
     "data": {
      "image/png": "[encoded data removed]",
      "text/plain": [
       "<matplotlib.figure.Figure at 0x7f1e146f14e0>"
      ]
     },
     "metadata": {},
     "output_type": "display_data"
    }
   ],
   "source": [
    "\n",
    "f,axes=plt.subplots(2,2, figsize=(8,8))\n",
    "ix=random.randint(1,90)\n",
    "print(ix)\n",
    "ix=0\n",
    "axes[0,0].imshow(sub_validation_data[ix,z,:,:])\n",
    "axes[0,1].imshow(sub_validation_truth[ix,z,:,:,1])\n",
    "axes[1,0].imshow((0.01+results[ix,z,:,:,0]))\n",
    "axes[1,1].imshow((0.01+results[ix,z,:,:,1]))\n",
    "z=z+1\n",
    "\n"
   ]
  },
  {
   "cell_type": "markdown",
   "metadata": {},
   "source": [
    "Trying on Bony images"
   ]
  },
  {
   "cell_type": "code",
   "execution_count": 94,
   "metadata": {},
   "outputs": [
    {
     "data": {
      "text/plain": [
       "(100, 64, 64)"
      ]
     },
     "execution_count": 94,
     "metadata": {},
     "output_type": "execute_result"
    }
   ],
   "source": [
    "sub_validation_data.shape"
   ]
  },
  {
   "cell_type": "code",
   "execution_count": 85,
   "metadata": {},
   "outputs": [
    {
     "name": "stdout",
     "output_type": "stream",
     "text": [
      "0.13\n",
      "0.34\n"
     ]
    },
    {
     "data": {
      "text/plain": [
       "(1, 32, 64, 64)"
      ]
     },
     "execution_count": 85,
     "metadata": {},
     "output_type": "execute_result"
    }
   ],
   "source": [
    "blobs=read_tiff('BonyStack.tif',32)\n",
    "blobs=blobs.reshape([1,32,64,64])\n",
    "blobs=(blobs-np.mean(blobs))/np.std(blobs)\n",
    "blobs=((blobs*.34+0.13))\n",
    "blobgarb=sub_validation_truth[0:1,:,:,:,:]\n",
    "print(np.mean(blobs))\n",
    "print(np.std(blobs))\n",
    "blobgarb.shape\n",
    "blobs.shape"
   ]
  },
  {
   "cell_type": "code",
   "execution_count": 86,
   "metadata": {
    "collapsed": true
   },
   "outputs": [],
   "source": [
    "results, LN,losses=sess.run([probs, LSQ, loss], feed_dict={x:blobs, y:blobgarb})"
   ]
  },
  {
   "cell_type": "code",
   "execution_count": 89,
   "metadata": {},
   "outputs": [
    {
     "data": {
      "text/plain": [
       "4"
      ]
     },
     "execution_count": 89,
     "metadata": {},
     "output_type": "execute_result"
    },
    {
     "data": {
      "image/png": "[encoded data removed]",
      "text/plain": [
       "<matplotlib.figure.Figure at 0x7f1e062e6c50>"
      ]
     },
     "metadata": {},
     "output_type": "display_data"
    }
   ],
   "source": [
    "z=2\n",
    "\n",
    "f,axes=plt.subplots(2,2, figsize=(8,8))\n",
    "axes[0,0].imshow(blobs[0,z,:,:])\n",
    "#axes[0,1].imshow(blobgarb[0,:,:,1])\n",
    "axes[1,0].imshow((0.01+results[0,z,:,:,0]))\n",
    "axes[1,1].imshow((0.5+results[0,z,:,:,1]))\n",
    "ix=ix+1\n",
    "ix"
   ]
  },
  {
   "cell_type": "code",
   "execution_count": 93,
   "metadata": {
    "collapsed": true
   },
   "outputs": [],
   "source": [
    "for i in range(0,32):\n",
    "    im=Image.fromarray(results[0,i,:,:,0])\n",
    "    im.save('output/Mask'+str(i)+'.tif', \"TIFF\")\n",
    "    im=Image.fromarray(results[0,i,:,:,1])\n",
    "    im.save('output/Outline'+str(i)+'.tif', \"TIFF\")\n"
   ]
  },
  {
   "cell_type": "code",
   "execution_count": null,
   "metadata": {
    "collapsed": true
   },
   "outputs": [],
   "source": []
  }
 ],
 "metadata": {
  "kernelspec": {
   "display_name": "Python 3",
   "language": "python",
   "name": "python3"
  },
  "language_info": {
   "codemirror_mode": {
    "name": "ipython",
    "version": 3
   },
   "file_extension": ".py",
   "mimetype": "text/x-python",
   "name": "python",
   "nbconvert_exporter": "python",
   "pygments_lexer": "ipython3",
   "version": "3.6.4"
  }
 },
 "nbformat": 4,
 "nbformat_minor": 2
}

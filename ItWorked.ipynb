{
 "cells": [
  {
   "cell_type": "markdown",
   "metadata": {},
   "source": [
    "# Finding blobs in 64x64 images using conv2d"
   ]
  },
  {
   "cell_type": "code",
   "execution_count": 1,
   "metadata": {
    "collapsed": true
   },
   "outputs": [],
   "source": [
    "%matplotlib inline\n",
    "import numpy as np\n",
    "import matplotlib.pyplot as plt\n",
    "import pandas as pd\n",
    "import tensorflow as tf\n",
    "from scipy.optimize import curve_fit\n",
    "from PIL import Image\n",
    "import random"
   ]
  },
  {
   "cell_type": "markdown",
   "metadata": {},
   "source": [
    "# Get data"
   ]
  },
  {
   "cell_type": "markdown",
   "metadata": {},
   "source": [
    "Data reading function"
   ]
  },
  {
   "cell_type": "code",
   "execution_count": 2,
   "metadata": {
    "collapsed": true
   },
   "outputs": [],
   "source": [
    "def read_tiff(path, n_images):\n",
    "    \"\"\"\n",
    "    path - Path to the multipage-tiff file\n",
    "    n_images - Number of pages in the tiff file\n",
    "    \"\"\"\n",
    "    img = Image.open(path)\n",
    "    images = []\n",
    "    for i in range(n_images):\n",
    "        try:\n",
    "            img.seek(i)\n",
    "            slice_ = np.zeros((img.height, img.width))\n",
    "            for j in range(slice_.shape[0]):\n",
    "                for k in range(slice_.shape[1]):\n",
    "                    slice_[j,k] = img.getpixel((j, k))\n",
    "\n",
    "            images.append(slice_)\n",
    "\n",
    "        except EOFError:\n",
    "            # Not enough frames in img\n",
    "            break\n",
    "\n",
    "    return np.array(images)"
   ]
  },
  {
   "cell_type": "code",
   "execution_count": 3,
   "metadata": {
    "collapsed": true
   },
   "outputs": [],
   "source": [
    "def leaky_relu(inp, alpha=0.2):\n",
    "    return tf.maximum(inp * alpha, inp)\n",
    "    "
   ]
  },
  {
   "cell_type": "markdown",
   "metadata": {},
   "source": [
    "Read in blobs tiff"
   ]
  },
  {
   "cell_type": "code",
   "execution_count": 4,
   "metadata": {
    "collapsed": true
   },
   "outputs": [],
   "source": [
    "all_dataA=read_tiff('OutlinesA.tif',10000)\n",
    "#all_dataB=read_tiff('CountBlobsB.tif',10000)\n",
    "#all_dataC=read_tiff('CountBlobsC.tif',10000)"
   ]
  },
  {
   "cell_type": "code",
   "execution_count": 5,
   "metadata": {
    "collapsed": true
   },
   "outputs": [],
   "source": [
    "all_truthsA=read_tiff('OutlinesTruthA.tif',10000)\n",
    "#dfB=pd.read_csv('CountBlobsTruthB.csv')\n",
    "#dfC=pd.read_csv('CountBlobsTruthC.csv')"
   ]
  },
  {
   "cell_type": "code",
   "execution_count": null,
   "metadata": {
    "collapsed": true
   },
   "outputs": [],
   "source": []
  },
  {
   "cell_type": "markdown",
   "metadata": {},
   "source": [
    "Read in truth table"
   ]
  },
  {
   "cell_type": "markdown",
   "metadata": {},
   "source": [
    "# Design network"
   ]
  },
  {
   "cell_type": "markdown",
   "metadata": {},
   "source": [
    "Define a function to create a convolutional layer, including conv, relu, maxpool, that can be called multiple times"
   ]
  },
  {
   "cell_type": "code",
   "execution_count": 53,
   "metadata": {
    "collapsed": false
   },
   "outputs": [],
   "source": [
    "#Input and output\n",
    "x=tf.placeholder(dtype=tf.float32, shape=[None, 64,64])\n",
    "y=tf.placeholder(dtype=tf.float32, shape=[None, 64,64])\n",
    "\n",
    "xr=tf.reshape(x, [-1, 64,64,1])\n",
    "yr=tf.reshape(y, [-1, 64,64,1])\n",
    "\n",
    "base_scaler=64\n",
    "\n",
    "#Going down\n",
    "A1=leaky_relu(tf.layers.conv2d(xr, base_scaler, [3,3], padding='SAME'))\n",
    "A2=leaky_relu(tf.layers.conv2d(A1, base_scaler, [3,3], padding='SAME'))\n",
    "\n",
    "B0=tf.nn.max_pool(A2, ksize=[1,2,2,1], strides=[1,2,2,1], padding='SAME')\n",
    "B1=leaky_relu(tf.contrib.layers.conv2d(B0, 2*base_scaler, [3,3], padding='SAME'))\n",
    "B2=leaky_relu(tf.contrib.layers.conv2d(B1, 2*base_scaler, [3,3], padding='SAME'))\n",
    "\n",
    "C0=tf.nn.max_pool(B2, ksize=[1,2,2,1], strides=[1,2,2,1], padding='SAME')\n",
    "C1=leaky_relu(tf.contrib.layers.conv2d(C0, 4*base_scaler, [3,3], padding='SAME'))\n",
    "C2=leaky_relu(tf.contrib.layers.conv2d(C1, 4*base_scaler, [3,3], padding='SAME'))\n",
    "\n",
    "D0=tf.nn.max_pool(C2, ksize=[1,2,2,1], strides=[1,2,2,1], padding='SAME')\n",
    "D1=leaky_relu(tf.contrib.layers.conv2d(D0, 8*base_scaler, [3,3], padding='SAME'))\n",
    "D2=leaky_relu(tf.contrib.layers.conv2d(D1, 8*base_scaler, [3,3], padding='SAME'))\n",
    "\n",
    "E0=tf.nn.max_pool(D2, ksize=[1,2,2,1], strides=[1,2,2,1], padding='SAME')\n",
    "E1=leaky_relu(tf.contrib.layers.conv2d(E0, 16*base_scaler, [3,3], padding='SAME'))\n",
    "E2=leaky_relu(tf.contrib.layers.conv2d(E1, 16*base_scaler, [3,3], padding='SAME'))\n",
    "\n",
    "#Put in a dense layer, probably not a good idea\n",
    "using_fully_connected=0\n",
    "if using_fully_connected==1:\n",
    "    flattened=tf.reshape(E2, [-1,16*base_scaler*4*4 ])\n",
    "    dense1=tf.contrib.layers.fully_connected(flattened,128)\n",
    "    dense2=tf.contrib.layers.fully_connected(dense1,16*base_scaler*4*4)\n",
    "    unflattened=tf.reshape(dense2, [-1, 4,4,16*base_scaler])\n",
    "    DD0=tf.contrib.layers.conv2d_transpose(unflattened, 8*base_scaler, kernel_size=[3,3], stride=[2, 2], padding='SAME')\n",
    "else:\n",
    "    DD0=tf.contrib.layers.conv2d_transpose(E2, 8*base_scaler, kernel_size=[3,3], stride=[2, 2], padding='SAME')\n",
    "\n",
    "#Coming up\n",
    "DD1=tf.concat(axis=3, values=[DD0,D2])\n",
    "DD2=leaky_relu(tf.contrib.layers.conv2d(DD1, 8*base_scaler, [3,3], padding='SAME'))\n",
    "DD3=leaky_relu(tf.contrib.layers.conv2d(DD2, 8*base_scaler, [3,3], padding='SAME'))\n",
    "\n",
    "CC0=tf.contrib.layers.conv2d_transpose(DD3, 4*base_scaler, kernel_size=[3,3], stride=[2, 2], padding='SAME')\n",
    "CC1=tf.concat(axis=3, values=[CC0,C2])\n",
    "CC2=leaky_relu(tf.contrib.layers.conv2d(CC1, 4*base_scaler, [3,3], padding='SAME'))\n",
    "CC3=leaky_relu(tf.contrib.layers.conv2d(CC2, 4*base_scaler, [3,3], padding='SAME'))\n",
    "\n",
    "BB0=tf.contrib.layers.conv2d_transpose(CC3, 2*base_scaler, kernel_size=[3,3], stride=[2, 2], padding='SAME')\n",
    "BB1=tf.concat(axis=3, values=[BB0,B2])\n",
    "BB2=leaky_relu(tf.contrib.layers.conv2d(BB1, 2*base_scaler, [3,3], padding='SAME'))\n",
    "BB3=leaky_relu(tf.contrib.layers.conv2d(BB2, 2*base_scaler, [3,3], padding='SAME'))\n",
    "\n",
    "AA0=tf.contrib.layers.conv2d_transpose(BB3, base_scaler, kernel_size=[3,3], stride=[2, 2], padding='SAME')\n",
    "AA1=tf.concat(axis=3, values=[AA0,A2])\n",
    "AA2=leaky_relu(tf.contrib.layers.conv2d(AA1, base_scaler, [3,3], padding='SAME'))\n",
    "AA3=leaky_relu(tf.contrib.layers.conv2d(AA2, base_scaler, [3,3], padding='SAME'))\n",
    "\n",
    "logits=leaky_relu(tf.contrib.layers.conv2d(AA3, 1, [1,1], padding='SAME'))\n",
    "probs=tf.tanh(logits)\n",
    "\n",
    "diff=tf.subtract(probs, yr)\n",
    "LSQ=tf.multiply(diff,diff)\n",
    "loss=tf.reduce_mean(LSQ)\n",
    "\n",
    "train_op=tf.train.AdamOptimizer(learning_rate=0.001).minimize(loss)\n",
    "\n"
   ]
  },
  {
   "cell_type": "markdown",
   "metadata": {},
   "source": [
    "# Training on easy set"
   ]
  },
  {
   "cell_type": "code",
   "execution_count": 54,
   "metadata": {
    "collapsed": true
   },
   "outputs": [],
   "source": [
    "all_data=(all_dataA)/255.0\n",
    "\n",
    "train_data=all_data[0:6000, :,:]\n",
    "validation_data=all_data[6001:8000, :,:]\n",
    "test_data=all_data[8001:10000, :,:]"
   ]
  },
  {
   "cell_type": "code",
   "execution_count": 55,
   "metadata": {
    "collapsed": true
   },
   "outputs": [],
   "source": [
    "all_truths=all_truthsA/255.0\n",
    "\n",
    "train_truth=all_truths[0:6000, :,:]\n",
    "validation_truth=all_truths[6001:8000, :,:]\n",
    "test_truth=all_truths[8001:10000, :,:]"
   ]
  },
  {
   "cell_type": "code",
   "execution_count": 65,
   "metadata": {
    "collapsed": false
   },
   "outputs": [
    {
     "name": "stdout",
     "output_type": "stream",
     "text": [
      "Error rate:  (?, 64, 64, 1)\n",
      "Real loss:  0.08853368\n",
      "Error rate:  (?, 64, 64, 1)\n",
      "Real loss:  0.037616592\n",
      "Error rate:  (?, 64, 64, 1)\n",
      "Real loss:  0.0087180985\n",
      "Error rate:  (?, 64, 64, 1)\n",
      "Real loss:  0.0025856667\n",
      "Error rate:  (?, 64, 64, 1)\n",
      "Real loss:  0.0018864146\n",
      "Error rate:  (?, 64, 64, 1)\n",
      "Real loss:  0.001529689\n",
      "Error rate:  (?, 64, 64, 1)\n",
      "Real loss:  0.0020311142\n",
      "Error rate:  (?, 64, 64, 1)\n",
      "Real loss:  0.0015189609\n",
      "Error rate:  (?, 64, 64, 1)\n",
      "Real loss:  0.0014375988\n",
      "Error rate:  (?, 64, 64, 1)\n",
      "Real loss:  0.0013167693\n"
     ]
    }
   ],
   "source": [
    "tf.set_random_seed(123456)\n",
    "sess=tf.Session()\n",
    "sess.run(tf.global_variables_initializer())\n",
    "\n",
    "for i in range(100):\n",
    "    idx=np.random.choice(6000, replace=False, size=[100])\n",
    "    cur_train=train_data[idx,:,:]\n",
    "    cur_truth=train_truth[idx,:,:]\n",
    "    _,results, LN,losses=sess.run([train_op, logits, probs, loss], feed_dict={x:cur_train, y:cur_truth})\n",
    "    if (i%10==0):\n",
    "        print(\"Error rate: \", logits.shape)\n",
    "        print(\"Real loss: \",losses)"
   ]
  },
  {
   "cell_type": "code",
   "execution_count": 66,
   "metadata": {
    "collapsed": false
   },
   "outputs": [
    {
     "name": "stdout",
     "output_type": "stream",
     "text": [
      "[0.0, 6.385223]\n",
      "58\n"
     ]
    },
    {
     "data": {
      "text/plain": [
       "(100, 64, 64, 1)"
      ]
     },
     "execution_count": 66,
     "metadata": {},
     "output_type": "execute_result"
    },
    {
     "data": {
      "image/png": "[encoded data removed]",
      "text/plain": [
       "<matplotlib.figure.Figure at 0x7fb5201ae9b0>"
      ]
     },
     "metadata": {},
     "output_type": "display_data"
    },
    {
     "data": {
      "image/png": "[encoded data removed]",
      "text/plain": [
       "<matplotlib.figure.Figure at 0x7fb520161710>"
      ]
     },
     "metadata": {},
     "output_type": "display_data"
    }
   ],
   "source": [
    "\n",
    "ix=random.randint(1,64)\n",
    "plt.figure()\n",
    "plt.imshow(results[0,:,:,0])\n",
    "plt.figure()\n",
    "plt.imshow(cur_train[0,:,:])\n",
    "\n",
    "print([np.min(results[1,:,:,0]), np.max(results[1,:,:,0])])\n",
    "print(ix)\n",
    "results.shape"
   ]
  },
  {
   "cell_type": "code",
   "execution_count": 42,
   "metadata": {
    "collapsed": false
   },
   "outputs": [
    {
     "data": {
      "text/plain": [
       "0.5"
      ]
     },
     "execution_count": 42,
     "metadata": {},
     "output_type": "execute_result"
    },
    {
     "data": {
      "image/png": "[encoded data removed]",
      "text/plain": [
       "<matplotlib.figure.Figure at 0x7f4bfaff4b00>"
      ]
     },
     "metadata": {},
     "output_type": "display_data"
    }
   ],
   "source": [
    "plt.imshow(results[1,:,:,0])\n",
    "np.max(results[1,:,:,0])"
   ]
  },
  {
   "cell_type": "code",
   "execution_count": 69,
   "metadata": {
    "collapsed": false
   },
   "outputs": [],
   "source": [
    "sub_range=range(0,100)\n",
    "sub_validation_data=validation_data[sub_range, :,:]\n",
    "sub_validation_truth=validation_truth[sub_range, :,:]\n",
    "results, LN,losses=sess.run([probs, LSQ, loss], feed_dict={x:sub_validation_data, y:sub_validation_truth})"
   ]
  },
  {
   "cell_type": "code",
   "execution_count": 84,
   "metadata": {
    "collapsed": false
   },
   "outputs": [
    {
     "data": {
      "text/plain": [
       "<matplotlib.image.AxesImage at 0x7fb51af8d320>"
      ]
     },
     "execution_count": 84,
     "metadata": {},
     "output_type": "execute_result"
    },
    {
     "data": {
      "image/png": "[encoded data removed]",
      "text/plain": [
       "<matplotlib.figure.Figure at 0x7fb51b1fbd68>"
      ]
     },
     "metadata": {},
     "output_type": "display_data"
    },
    {
     "data": {
      "image/png": "[encoded data removed]",
      "text/plain": [
       "<matplotlib.figure.Figure at 0x7fb51b244ba8>"
      ]
     },
     "metadata": {},
     "output_type": "display_data"
    }
   ],
   "source": [
    "\n",
    "ix=random.randint(1,64)\n",
    "plt.figure()\n",
    "plt.imshow(results[ix,:,:,0])\n",
    "plt.figure()\n",
    "plt.imshow(sub_validation_data[ix,:,:])\n",
    "\n"
   ]
  },
  {
   "cell_type": "markdown",
   "metadata": {},
   "source": [
    "# Training on middle set"
   ]
  },
  {
   "cell_type": "code",
   "execution_count": 199,
   "metadata": {
    "collapsed": true
   },
   "outputs": [],
   "source": [
    "all_data=all_dataB\n",
    "\n",
    "train_data=all_data[0:6000, :,:]\n",
    "validation_data=all_data[6001:8000, :,:]\n",
    "test_data=all_data[8001:10000, :,:]"
   ]
  },
  {
   "cell_type": "code",
   "execution_count": 200,
   "metadata": {
    "collapsed": true
   },
   "outputs": [],
   "source": [
    "df=dfB\n",
    "\n",
    "all_truth=df['Blobs'].as_matrix()\n",
    "all_truth=all_truth.reshape(all_truth.shape[0], 1)\n",
    "train_truth=all_truth[0:6000, :]\n",
    "validation_truth=all_truth[6001:8000, :]\n",
    "test_truth=all_truth[8001:10000, :]"
   ]
  },
  {
   "cell_type": "code",
   "execution_count": 201,
   "metadata": {
    "collapsed": false
   },
   "outputs": [
    {
     "name": "stdout",
     "output_type": "stream",
     "text": [
      "Error rate:  (100, 1)\n",
      "Real loss:  18.7572\n",
      "Error rate:  (100, 1)\n",
      "Real loss:  0.373632\n",
      "Error rate:  (100, 1)\n",
      "Real loss:  0.36003\n",
      "Error rate:  (100, 1)\n",
      "Real loss:  0.15307\n",
      "Error rate:  (100, 1)\n",
      "Real loss:  0.229855\n",
      "Error rate:  (100, 1)\n",
      "Real loss:  0.108818\n",
      "Error rate:  (100, 1)\n",
      "Real loss:  0.0673801\n"
     ]
    }
   ],
   "source": [
    "\n",
    "for i in range(2000):\n",
    "    idx=np.random.choice(6000, replace=False, size=[100])\n",
    "    cur_train=train_data[idx,:,:]\n",
    "    cur_truth=train_truth[idx,:]\n",
    "    _,results, LN,losses=sess.run([train_op, logits, LS, loss], feed_dict={x:cur_train, y:cur_truth})\n",
    "    if (i%300==0):\n",
    "        print(\"Error rate: \", LN.shape)\n",
    "        print(\"Real loss: \",losses)"
   ]
  },
  {
   "cell_type": "code",
   "execution_count": 202,
   "metadata": {
    "collapsed": true
   },
   "outputs": [],
   "source": [
    "results, LN,losses=sess.run([logits, LS, loss], feed_dict={x:validation_data, y:validation_truth})"
   ]
  },
  {
   "cell_type": "code",
   "execution_count": 207,
   "metadata": {
    "collapsed": false
   },
   "outputs": [
    {
     "name": "stdout",
     "output_type": "stream",
     "text": [
      "4\n",
      "4.44682\n",
      "23.0768066406\n"
     ]
    },
    {
     "data": {
      "image/png": "[encoded data removed]",
      "text/plain": [
       "<matplotlib.figure.Figure at 0x7ff802817208>"
      ]
     },
     "metadata": {},
     "output_type": "display_data"
    }
   ],
   "source": [
    "rid=random.randint(0,1999)\n",
    "plt.imshow(validation_data[rid,:,:])\n",
    "print(validation_truth[rid,0])\n",
    "print(results[rid,0])\n",
    "print(np.mean(validation_data[rid,:,:])/5)"
   ]
  },
  {
   "cell_type": "markdown",
   "metadata": {},
   "source": [
    "# Training on final set"
   ]
  },
  {
   "cell_type": "code",
   "execution_count": 208,
   "metadata": {
    "collapsed": true
   },
   "outputs": [],
   "source": [
    "all_data=all_dataC\n",
    "\n",
    "train_data=all_data[0:6000, :,:]\n",
    "validation_data=all_data[6001:8000, :,:]\n",
    "test_data=all_data[8001:10000, :,:]"
   ]
  },
  {
   "cell_type": "code",
   "execution_count": 209,
   "metadata": {
    "collapsed": true
   },
   "outputs": [],
   "source": [
    "df=dfC\n",
    "\n",
    "all_truth=df['Blobs'].as_matrix()\n",
    "all_truth=all_truth.reshape(all_truth.shape[0], 1)\n",
    "train_truth=all_truth[0:6000, :]\n",
    "validation_truth=all_truth[6001:8000, :]\n",
    "test_truth=all_truth[8001:10000, :]"
   ]
  },
  {
   "cell_type": "code",
   "execution_count": 214,
   "metadata": {
    "collapsed": false
   },
   "outputs": [
    {
     "name": "stdout",
     "output_type": "stream",
     "text": [
      "Error rate:  (100, 1)\n",
      "Real loss:  0.0740829\n",
      "Error rate:  (100, 1)\n",
      "Real loss:  0.0431278\n",
      "Error rate:  (100, 1)\n",
      "Real loss:  0.0310682\n",
      "Error rate:  (100, 1)\n",
      "Real loss:  0.0351322\n",
      "Error rate:  (100, 1)\n",
      "Real loss:  0.0267674\n",
      "Error rate:  (100, 1)\n",
      "Real loss:  0.0110069\n",
      "Error rate:  (100, 1)\n",
      "Real loss:  0.00699636\n"
     ]
    }
   ],
   "source": [
    "\n",
    "for i in range(2000):\n",
    "    idx=np.random.choice(6000, replace=False, size=[100])\n",
    "    cur_train=train_data[idx,:,:]\n",
    "    cur_truth=train_truth[idx,:]\n",
    "    _,results, LN,losses=sess.run([train_op, logits, LS, loss], feed_dict={x:cur_train, y:cur_truth})\n",
    "    if (i%300==0):\n",
    "        print(\"Error rate: \", LN.shape)\n",
    "        print(\"Real loss: \",losses)"
   ]
  },
  {
   "cell_type": "code",
   "execution_count": 215,
   "metadata": {
    "collapsed": true
   },
   "outputs": [],
   "source": [
    "results, LN,losses=sess.run([logits, LS, loss], feed_dict={x:validation_data, y:validation_truth})"
   ]
  },
  {
   "cell_type": "code",
   "execution_count": 224,
   "metadata": {
    "collapsed": false
   },
   "outputs": [
    {
     "name": "stdout",
     "output_type": "stream",
     "text": [
      "8\n",
      "7.58809\n",
      "21.6808105469\n"
     ]
    },
    {
     "data": {
      "image/png": "[encoded data removed]",
      "text/plain": [
       "<matplotlib.figure.Figure at 0x7ff80278f8d0>"
      ]
     },
     "metadata": {},
     "output_type": "display_data"
    }
   ],
   "source": [
    "rid=random.randint(0,1999)\n",
    "plt.imshow(validation_data[rid,:,:])\n",
    "print(validation_truth[rid,0])\n",
    "print(results[rid,0])\n",
    "print(np.mean(validation_data[rid,:,:])/5)"
   ]
  },
  {
   "cell_type": "markdown",
   "metadata": {},
   "source": [
    "# Compare to simple mean"
   ]
  },
  {
   "cell_type": "code",
   "execution_count": 225,
   "metadata": {
    "collapsed": false
   },
   "outputs": [
    {
     "data": {
      "text/plain": [
       "(1999, 1)"
      ]
     },
     "execution_count": 225,
     "metadata": {},
     "output_type": "execute_result"
    }
   ],
   "source": [
    "validation_truth.shape"
   ]
  },
  {
   "cell_type": "code",
   "execution_count": 226,
   "metadata": {
    "collapsed": false
   },
   "outputs": [
    {
     "data": {
      "text/plain": [
       "<matplotlib.collections.PathCollection at 0x7ff802722f28>"
      ]
     },
     "execution_count": 226,
     "metadata": {},
     "output_type": "execute_result"
    },
    {
     "data": {
      "image/png": "[encoded data removed]",
      "text/plain": [
       "<matplotlib.figure.Figure at 0x7ff80290de10>"
      ]
     },
     "metadata": {},
     "output_type": "display_data"
    }
   ],
   "source": [
    "plt.scatter(np.mean(validation_data, axis=(1,2)), validation_truth[:,0])"
   ]
  },
  {
   "cell_type": "code",
   "execution_count": 227,
   "metadata": {
    "collapsed": false
   },
   "outputs": [
    {
     "data": {
      "text/plain": [
       "<matplotlib.collections.PathCollection at 0x7ff80243fac8>"
      ]
     },
     "execution_count": 227,
     "metadata": {},
     "output_type": "execute_result"
    },
    {
     "data": {
      "image/png": "[encoded data removed]",
      "text/plain": [
       "<matplotlib.figure.Figure at 0x7ff80239a080>"
      ]
     },
     "metadata": {},
     "output_type": "display_data"
    }
   ],
   "source": [
    "plt.scatter(np.mean(validation_data, axis=(1,2)), results[:,0])\n",
    "plt.scatter(np.mean(validation_data, axis=(1,2)), validation_truth[:,0])"
   ]
  },
  {
   "cell_type": "code",
   "execution_count": 232,
   "metadata": {
    "collapsed": false
   },
   "outputs": [
    {
     "data": {
      "text/plain": [
       "(array([[  98.,    0.,    0.,    0.,    0.,    0.,    0.,    0.,    0.,\n",
       "            0.],\n",
       "        [   2.,  209.,    3.,    0.,    0.,    0.,    0.,    0.,    0.,\n",
       "            0.],\n",
       "        [   0.,    9.,  215.,   10.,    0.,    0.,    0.,    0.,    0.,\n",
       "            0.],\n",
       "        [   0.,    0.,   12.,  195.,   20.,    0.,    0.,    0.,    0.,\n",
       "            0.],\n",
       "        [   0.,    0.,    0.,   27.,  192.,   34.,    0.,    0.,    0.,\n",
       "            0.],\n",
       "        [   0.,    0.,    0.,    0.,   34.,  214.,   37.,    0.,    0.,\n",
       "            0.],\n",
       "        [   0.,    0.,    0.,    0.,    3.,   46.,  206.,   40.,    0.,\n",
       "            0.],\n",
       "        [   0.,    0.,    0.,    0.,    0.,    3.,   56.,  146.,   21.,\n",
       "            0.],\n",
       "        [   0.,    0.,    0.,    0.,    0.,    0.,    7.,   38.,   69.,\n",
       "            9.],\n",
       "        [   0.,    0.,    0.,    0.,    0.,    0.,    0.,    1.,   15.,\n",
       "           28.]]),\n",
       " array([  0.,   1.,   2.,   3.,   4.,   5.,   6.,   7.,   8.,   9.,  10.]),\n",
       " array([  0.,   1.,   2.,   3.,   4.,   5.,   6.,   7.,   8.,   9.,  10.]),\n",
       " <matplotlib.image.AxesImage at 0x7ff802841908>)"
      ]
     },
     "execution_count": 232,
     "metadata": {},
     "output_type": "execute_result"
    },
    {
     "data": {
      "image/png": "[encoded data removed]",
      "text/plain": [
       "<matplotlib.figure.Figure at 0x7ff80294eeb8>"
      ]
     },
     "metadata": {},
     "output_type": "display_data"
    }
   ],
   "source": [
    "plt.hist2d(validation_truth[:,0], np.round(results[:,0]))"
   ]
  },
  {
   "cell_type": "code",
   "execution_count": null,
   "metadata": {
    "collapsed": true
   },
   "outputs": [],
   "source": []
  }
 ],
 "metadata": {
  "kernelspec": {
   "display_name": "Python 3",
   "language": "python",
   "name": "python3"
  },
  "language_info": {
   "codemirror_mode": {
    "name": "ipython",
    "version": 3
   },
   "file_extension": ".py",
   "mimetype": "text/x-python",
   "name": "python",
   "nbconvert_exporter": "python",
   "pygments_lexer": "ipython3",
   "version": "3.6.0"
  }
 },
 "nbformat": 4,
 "nbformat_minor": 2
}

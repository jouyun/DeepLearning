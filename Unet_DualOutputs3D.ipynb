{
 "cells": [
  {
   "cell_type": "markdown",
   "metadata": {},
   "source": [
    "# Finding blobs in 64x64 images using Unet, Conv3d"
   ]
  },
  {
   "cell_type": "code",
   "execution_count": 1,
   "metadata": {
    "collapsed": true
   },
   "outputs": [],
   "source": [
    "%matplotlib inline\n",
    "import numpy as np\n",
    "import matplotlib.pyplot as plt\n",
    "import pandas as pd\n",
    "import tensorflow as tf\n",
    "from scipy.optimize import curve_fit\n",
    "from PIL import Image\n",
    "import random"
   ]
  },
  {
   "cell_type": "markdown",
   "metadata": {},
   "source": [
    "# Get data"
   ]
  },
  {
   "cell_type": "markdown",
   "metadata": {},
   "source": [
    "Data reading function"
   ]
  },
  {
   "cell_type": "code",
   "execution_count": 2,
   "metadata": {
    "collapsed": true
   },
   "outputs": [],
   "source": [
    "def read_tiff(path, n_images):\n",
    "    \"\"\"\n",
    "    path - Path to the multipage-tiff file\n",
    "    n_images - Number of pages in the tiff file\n",
    "    \"\"\"\n",
    "    img = Image.open(path)\n",
    "    images = []\n",
    "    for i in range(n_images):\n",
    "        try:\n",
    "            img.seek(i)\n",
    "            slice_ = np.zeros((img.height, img.width))\n",
    "            for j in range(slice_.shape[0]):\n",
    "                for k in range(slice_.shape[1]):\n",
    "                    slice_[j,k] = img.getpixel((j, k))\n",
    "\n",
    "            images.append(slice_)\n",
    "\n",
    "        except EOFError:\n",
    "            # Not enough frames in img\n",
    "            break\n",
    "\n",
    "    return np.array(images)"
   ]
  },
  {
   "cell_type": "code",
   "execution_count": 3,
   "metadata": {
    "collapsed": true
   },
   "outputs": [],
   "source": [
    "def leaky_relu(inp, alpha=0.2):\n",
    "    return tf.maximum(inp * alpha, inp)\n",
    "    "
   ]
  },
  {
   "cell_type": "markdown",
   "metadata": {},
   "source": [
    "Read in blobs tiff"
   ]
  },
  {
   "cell_type": "code",
   "execution_count": 4,
   "metadata": {
    "collapsed": false
   },
   "outputs": [],
   "source": [
    "all_dataA=read_tiff('3DBlobsB.tif',6400)\n",
    "all_dataA=all_dataA.reshape(400,16,64,64)"
   ]
  },
  {
   "cell_type": "code",
   "execution_count": 5,
   "metadata": {
    "collapsed": false
   },
   "outputs": [],
   "source": [
    "all_truthsA=read_tiff('3DBlobsMaskTruthB.tif',6400)\n",
    "all_truthsA=all_truthsA.reshape(400,16,64,64)"
   ]
  },
  {
   "cell_type": "code",
   "execution_count": 6,
   "metadata": {
    "collapsed": true
   },
   "outputs": [],
   "source": [
    "all_truthsB=read_tiff('3DBlobsOutlinesTruthB.tif',6400)\n",
    "all_truthsB=all_truthsB.reshape(400,16,64,64)"
   ]
  },
  {
   "cell_type": "markdown",
   "metadata": {},
   "source": [
    "Read in truth table"
   ]
  },
  {
   "cell_type": "markdown",
   "metadata": {},
   "source": [
    "# Design network"
   ]
  },
  {
   "cell_type": "markdown",
   "metadata": {},
   "source": [
    "Define a function to create a convolutional layer, including conv, relu, maxpool, that can be called multiple times"
   ]
  },
  {
   "cell_type": "code",
   "execution_count": 11,
   "metadata": {
    "collapsed": false
   },
   "outputs": [],
   "source": [
    "#Input and output\n",
    "x=tf.placeholder(dtype=tf.float32, shape=[None, 16, 64,64])\n",
    "y=tf.placeholder(dtype=tf.float32, shape=[None, 16, 64,64,2])\n",
    "\n",
    "xr=tf.reshape(x, [-1, 16, 64,64,1])\n",
    "yr=y\n",
    "\n",
    "base_scaler=32\n",
    "\n",
    "#Going down\n",
    "A1=leaky_relu(tf.contrib.layers.conv3d(xr, base_scaler, [3,3,3], padding='SAME'))\n",
    "A2=leaky_relu(tf.contrib.layers.conv3d(A1, base_scaler, [3,3,3], padding='SAME'))\n",
    "\n",
    "B0=tf.nn.max_pool3d(A2, ksize=[1,1,2,2,1], strides=[1,1,2,2,1], padding='SAME')\n",
    "B1=leaky_relu(tf.contrib.layers.conv3d(B0, 2*base_scaler, [3,3,3], padding='SAME'))\n",
    "B2=leaky_relu(tf.contrib.layers.conv3d(B1, 2*base_scaler, [3,3,3], padding='SAME'))\n",
    "\n",
    "C0=tf.nn.max_pool3d(B2, ksize=[1,2,2,2,1], strides=[1,2,2,2,1], padding='SAME')\n",
    "C1=leaky_relu(tf.contrib.layers.conv3d(C0, 4*base_scaler, [3,3,3], padding='SAME'))\n",
    "C2=leaky_relu(tf.contrib.layers.conv3d(C1, 4*base_scaler, [3,3,3], padding='SAME'))\n",
    "\n",
    "D0=tf.nn.max_pool3d(C2, ksize=[1,1,2,2,1], strides=[1,1,2,2,1], padding='SAME')\n",
    "D1=leaky_relu(tf.contrib.layers.conv3d(D0, 8*base_scaler, [3,3,3], padding='SAME'))\n",
    "D2=leaky_relu(tf.contrib.layers.conv3d(D1, 8*base_scaler, [3,3,3], padding='SAME'))\n",
    "\n",
    "E0=tf.nn.max_pool3d(D2, ksize=[1,2,2,2,1], strides=[1,2,2,2,1], padding='SAME')\n",
    "E1=leaky_relu(tf.contrib.layers.conv3d(E0, 16*base_scaler, [3,3,3], padding='SAME'))\n",
    "E2=leaky_relu(tf.contrib.layers.conv3d(E1, 16*base_scaler, [3,3,3], padding='SAME'))\n",
    "\n",
    "\n",
    "\n",
    "#Coming up\n",
    "DD0=tf.layers.conv3d_transpose(E2, 8*base_scaler, kernel_size=[3,3,3], strides=[2,2,2], padding='SAME', use_bias=False)\n",
    "DD1=tf.concat(axis=4, values=[DD0,D2])\n",
    "DD2=leaky_relu(tf.contrib.layers.conv3d(DD1, 8*base_scaler, [3,3,3], padding='SAME'))\n",
    "DD3=leaky_relu(tf.contrib.layers.conv3d(DD2, 8*base_scaler, [3,3,3], padding='SAME'))\n",
    "\n",
    "CC0=tf.layers.conv3d_transpose(DD3, 4*base_scaler, kernel_size=[3,3,3], strides=[1,2, 2], padding='SAME', use_bias=False)\n",
    "CC1=tf.concat(axis=4, values=[CC0,C2])\n",
    "CC2=leaky_relu(tf.contrib.layers.conv3d(CC1, 4*base_scaler, [3,3,3], padding='SAME'))\n",
    "CC3=leaky_relu(tf.contrib.layers.conv3d(CC2, 4*base_scaler, [3,3,3], padding='SAME'))\n",
    "\n",
    "BB0=tf.layers.conv3d_transpose(CC3, 2*base_scaler, kernel_size=[3,3,3], strides=[2,2, 2], padding='SAME', use_bias=False)\n",
    "BB1=tf.concat(axis=4, values=[BB0,B2])\n",
    "BB2=leaky_relu(tf.contrib.layers.conv3d(BB1, 2*base_scaler, [3,3,3], padding='SAME'))\n",
    "BB3=leaky_relu(tf.contrib.layers.conv3d(BB2, 2*base_scaler, [3,3,3], padding='SAME'))\n",
    "\n",
    "AA0=tf.layers.conv3d_transpose(BB3, base_scaler, kernel_size=[3,3,3], strides=[1,2, 2], padding='SAME', use_bias=False)\n",
    "AA1=tf.concat(axis=4, values=[AA0,A2])\n",
    "AA2=leaky_relu(tf.contrib.layers.conv3d(AA1, base_scaler, [3,3,3], padding='SAME'))\n",
    "AA3=leaky_relu(tf.contrib.layers.conv3d(AA2, base_scaler, [3,3,3], padding='SAME'))\n",
    "\n",
    "logits=leaky_relu(tf.contrib.layers.conv3d(AA3, 2, [1,1,1], padding='SAME'))\n",
    "probs=tf.tanh(logits)\n",
    "\n",
    "diff=tf.subtract(probs, yr)\n",
    "LSQ=tf.multiply(diff,diff)\n",
    "loss=tf.reduce_mean(LSQ)\n",
    "\n",
    "train_op=tf.train.AdamOptimizer(learning_rate=0.0001).minimize(loss)\n",
    "\n"
   ]
  },
  {
   "cell_type": "markdown",
   "metadata": {},
   "source": [
    "# Training on easy set"
   ]
  },
  {
   "cell_type": "code",
   "execution_count": 8,
   "metadata": {
    "collapsed": true
   },
   "outputs": [],
   "source": [
    "all_data=(all_dataA)/255.0\n",
    "\n",
    "train_data=all_data[0:290, :,:,:]\n",
    "validation_data=all_data[291:299,:, :,:]\n"
   ]
  },
  {
   "cell_type": "code",
   "execution_count": 9,
   "metadata": {
    "collapsed": false
   },
   "outputs": [],
   "source": [
    "all_truths=np.concatenate((all_truthsA.reshape([400,16,64,64,1]), all_truthsB.reshape([400,16, 64, 64, 1])), axis=4)/255.0\n",
    "\n",
    "train_truth=all_truths[0:290, :,:,:,:]\n",
    "validation_truth=all_truths[291:299, :,:,:, :]\n"
   ]
  },
  {
   "cell_type": "code",
   "execution_count": 29,
   "metadata": {
    "collapsed": false
   },
   "outputs": [
    {
     "name": "stdout",
     "output_type": "stream",
     "text": [
      "Error rate:  (?, 32, 64, 64, 2)\n",
      "Real loss:  0.07499152\n",
      "Error rate:  (?, 32, 64, 64, 2)\n",
      "Real loss:  0.06321827\n",
      "Error rate:  (?, 32, 64, 64, 2)\n",
      "Real loss:  0.04452185\n",
      "Error rate:  (?, 32, 64, 64, 2)\n",
      "Real loss:  0.03904694\n",
      "Error rate:  (?, 32, 64, 64, 2)\n",
      "Real loss:  0.03055055\n",
      "Error rate:  (?, 32, 64, 64, 2)\n",
      "Real loss:  0.027553102\n",
      "Error rate:  (?, 32, 64, 64, 2)\n",
      "Real loss:  0.026599098\n",
      "Error rate:  (?, 32, 64, 64, 2)\n",
      "Real loss:  0.025284756\n",
      "Error rate:  (?, 32, 64, 64, 2)\n",
      "Real loss:  0.025598418\n",
      "Error rate:  (?, 32, 64, 64, 2)\n",
      "Real loss:  0.02482779\n",
      "Error rate:  (?, 32, 64, 64, 2)\n",
      "Real loss:  0.023142945\n",
      "Error rate:  (?, 32, 64, 64, 2)\n",
      "Real loss:  0.023634784\n",
      "Error rate:  (?, 32, 64, 64, 2)\n",
      "Real loss:  0.022442866\n",
      "Error rate:  (?, 32, 64, 64, 2)\n",
      "Real loss:  0.02243038\n",
      "Error rate:  (?, 32, 64, 64, 2)\n",
      "Real loss:  0.022428295\n",
      "Error rate:  (?, 32, 64, 64, 2)\n",
      "Real loss:  0.022543572\n",
      "Error rate:  (?, 32, 64, 64, 2)\n",
      "Real loss:  0.021295581\n"
     ]
    }
   ],
   "source": [
    "tf.set_random_seed(123456)\n",
    "sess=tf.Session()\n",
    "sess.run(tf.global_variables_initializer())\n",
    "\n",
    "for i in range(500):\n",
    "    idx=np.random.choice(190, replace=False, size=[20])\n",
    "    cur_train=train_data[idx,:,:,:]\n",
    "    cur_truth=train_truth[idx,:,:,:,:]\n",
    "    _,results, LN,losses=sess.run([train_op, logits, probs, loss], feed_dict={x:cur_train, y:cur_truth})\n",
    "    if (i%30==0):\n",
    "        print(\"Error rate: \", logits.shape)\n",
    "        print(\"Real loss: \",losses)"
   ]
  },
  {
   "cell_type": "markdown",
   "metadata": {},
   "source": [
    "# Trying validation data"
   ]
  },
  {
   "cell_type": "code",
   "execution_count": 30,
   "metadata": {
    "collapsed": false
   },
   "outputs": [
    {
     "data": {
      "text/plain": [
       "0.02217075"
      ]
     },
     "execution_count": 30,
     "metadata": {},
     "output_type": "execute_result"
    }
   ],
   "source": [
    "sub_range=range(0,3)\n",
    "sub_validation_data=validation_data[sub_range, :,:,:]\n",
    "sub_validation_truth=validation_truth[sub_range, :,:,:, :]\n",
    "results, LN,losses=sess.run([probs, LSQ, loss], feed_dict={x:sub_validation_data, y:sub_validation_truth})\n",
    "losses"
   ]
  },
  {
   "cell_type": "code",
   "execution_count": 31,
   "metadata": {
    "collapsed": false
   },
   "outputs": [
    {
     "name": "stdout",
     "output_type": "stream",
     "text": [
      "22\n"
     ]
    },
    {
     "data": {
      "image/png": "[encoded data removed]",
      "text/plain": [
       "<matplotlib.figure.Figure at 0x7f65fdea82e8>"
      ]
     },
     "metadata": {},
     "output_type": "display_data"
    }
   ],
   "source": [
    "z=2\n",
    "f,axes=plt.subplots(2,2, figsize=(8,8))\n",
    "ix=random.randint(1,90)\n",
    "print(ix)\n",
    "ix=0\n",
    "axes[0,0].imshow(sub_validation_data[ix,z,:,:])\n",
    "axes[0,1].imshow(sub_validation_truth[ix,z,:,:,1])\n",
    "axes[1,0].imshow((0.01+results[ix,z,:,:,0]))\n",
    "axes[1,1].imshow((0.01+results[ix,z,:,:,1]))\n",
    "z=z+1\n",
    "\n"
   ]
  },
  {
   "cell_type": "markdown",
   "metadata": {},
   "source": [
    "Trying on Bony images"
   ]
  },
  {
   "cell_type": "code",
   "execution_count": 94,
   "metadata": {
    "collapsed": false
   },
   "outputs": [
    {
     "data": {
      "text/plain": [
       "(100, 64, 64)"
      ]
     },
     "execution_count": 94,
     "metadata": {},
     "output_type": "execute_result"
    }
   ],
   "source": [
    "sub_validation_data.shape"
   ]
  },
  {
   "cell_type": "code",
   "execution_count": 130,
   "metadata": {
    "collapsed": false
   },
   "outputs": [
    {
     "name": "stdout",
     "output_type": "stream",
     "text": [
      "0.13\n",
      "0.34\n"
     ]
    },
    {
     "data": {
      "text/plain": [
       "(1, 32, 64, 64)"
      ]
     },
     "execution_count": 130,
     "metadata": {},
     "output_type": "execute_result"
    }
   ],
   "source": [
    "blobs=read_tiff('BonyStack.tif',32)\n",
    "blobs=blobs.reshape([1,32,64,64])\n",
    "blobs=(blobs-np.mean(blobs))/np.std(blobs)\n",
    "blobs=((blobs*.34+0.13))\n",
    "blobgarb=sub_validation_truth[0:1,:,:,:,:]\n",
    "print(np.mean(blobs))\n",
    "print(np.std(blobs))\n",
    "blobgarb.shape\n",
    "blobs.shape"
   ]
  },
  {
   "cell_type": "code",
   "execution_count": 131,
   "metadata": {
    "collapsed": true
   },
   "outputs": [],
   "source": [
    "results, LN,losses=sess.run([probs, LSQ, loss], feed_dict={x:blobs, y:blobgarb})"
   ]
  },
  {
   "cell_type": "code",
   "execution_count": 133,
   "metadata": {
    "collapsed": false
   },
   "outputs": [
    {
     "data": {
      "text/plain": [
       "7"
      ]
     },
     "execution_count": 133,
     "metadata": {},
     "output_type": "execute_result"
    },
    {
     "data": {
      "image/png": "[encoded data removed]",
      "text/plain": [
       "<matplotlib.figure.Figure at 0x7f1e068cd470>"
      ]
     },
     "metadata": {},
     "output_type": "display_data"
    }
   ],
   "source": [
    "z=5\n",
    "\n",
    "f,axes=plt.subplots(2,2, figsize=(8,8))\n",
    "axes[0,0].imshow(blobs[0,z,:,:])\n",
    "#axes[0,1].imshow(blobgarb[0,:,:,1])\n",
    "axes[1,0].imshow((0.01+results[0,z,:,:,0]))\n",
    "axes[1,1].imshow((0.5+results[0,z,:,:,1]))\n",
    "ix=ix+1\n",
    "ix"
   ]
  },
  {
   "cell_type": "code",
   "execution_count": 121,
   "metadata": {
    "collapsed": true
   },
   "outputs": [],
   "source": [
    "for i in range(0,32):\n",
    "    im=Image.fromarray(results[0,i,:,:,0])\n",
    "    im.save('output/MaskB'+str(i)+'.tif', \"TIFF\")\n",
    "    im=Image.fromarray(results[0,i,:,:,1])\n",
    "    im.save('output/OutlineB'+str(i)+'.tif', \"TIFF\")\n"
   ]
  },
  {
   "cell_type": "code",
   "execution_count": null,
   "metadata": {
    "collapsed": true
   },
   "outputs": [],
   "source": []
  }
 ],
 "metadata": {
  "kernelspec": {
   "display_name": "Python 3",
   "language": "python",
   "name": "python3"
  },
  "language_info": {
   "codemirror_mode": {
    "name": "ipython",
    "version": 3
   },
   "file_extension": ".py",
   "mimetype": "text/x-python",
   "name": "python",
   "nbconvert_exporter": "python",
   "pygments_lexer": "ipython3",
   "version": "3.6.0"
  }
 },
 "nbformat": 4,
 "nbformat_minor": 2
}

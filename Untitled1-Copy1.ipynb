{
 "cells": [
  {
   "cell_type": "code",
   "execution_count": 1,
   "metadata": {
    "collapsed": true
   },
   "outputs": [],
   "source": [
    "%matplotlib inline\n",
    "import numpy as np\n",
    "import matplotlib.pyplot as plt\n",
    "import pandas as pd\n",
    "import tensorflow as tf\n",
    "from scipy.optimize import curve_fit\n",
    "from PIL import Image\n",
    "import random\n",
    "import utils\n",
    "import glob"
   ]
  },
  {
   "cell_type": "code",
   "execution_count": 2,
   "metadata": {
    "collapsed": true
   },
   "outputs": [],
   "source": [
    "data='/media/smc/FatFish/'"
   ]
  },
  {
   "cell_type": "code",
   "execution_count": 3,
   "metadata": {},
   "outputs": [
    {
     "name": "stdout",
     "output_type": "stream",
     "text": [
      "INFO:tensorflow:Restoring parameters from /media/smc/FatFish/Model\n"
     ]
    }
   ],
   "source": [
    "tf.reset_default_graph()\n",
    "sess = tf.Session()\n",
    "saver = tf.train.import_meta_graph(data+'Model.meta')\n",
    "\n",
    "saver.restore(sess, data+'Model')\n"
   ]
  },
  {
   "cell_type": "code",
   "execution_count": 4,
   "metadata": {
    "collapsed": true
   },
   "outputs": [],
   "source": [
    "probs=sess.graph.get_operation_by_name('probabilities').name+':0'\n",
    "x=sess.graph.get_operation_by_name('x').name+':0'\n",
    "y=sess.graph.get_operation_by_name('y').name+':0'"
   ]
  },
  {
   "cell_type": "code",
   "execution_count": 4,
   "metadata": {},
   "outputs": [
    {
     "data": {
      "text/plain": [
       "'/media/smc/FatFish/FatFish.pb'"
      ]
     },
     "execution_count": 4,
     "metadata": {},
     "output_type": "execute_result"
    }
   ],
   "source": [
    "tf.train.write_graph(sess.graph_def, data, 'FatFish.pb', as_text=False)"
   ]
  },
  {
   "cell_type": "code",
   "execution_count": 53,
   "metadata": {
    "collapsed": true
   },
   "outputs": [],
   "source": [
    "def process_file(sess, file_name):\n",
    "    true_test2_data=utils.get_raw_float_image(file_name, [1,256,256,5])\n",
    "    true_test2_truth=utils.get_raw_float_image(file_name, [1,256,256,5])[:,:,:,3]/255.0\n",
    "    num_images=true_test2_data.shape[0]\n",
    "    output=np.zeros([num_images,256,256,3])\n",
    "    process_batch_size=50\n",
    "    print('Starting')\n",
    "    for c in range (0,3):\n",
    "        current_test_data=true_test2_data[:,:,:,[c,3]]/4096.0\n",
    "        for t in range(0,num_images,process_batch_size):\n",
    "            endrng=np.min((t+process_batch_size,num_images))\n",
    "            sub_validation_data=current_test_data[t:(t+process_batch_size), :,:,:]\n",
    "            sub_validation_truth=true_test2_truth[t:(t+process_batch_size), :,:]\n",
    "            results=sess.run(probs, feed_dict={x:sub_validation_data})\n",
    "            output[t:(t+process_batch_size),:,:,c]=results[:,:,:,0]\n",
    "        print('Done')\n",
    "    output=np.swapaxes(np.swapaxes(output,3,2),2,1)\n",
    "    np.place(output, output<0, 0)\n",
    "    (output*255.0).astype(np.uint8).tofile(file_name[0:-4]+'_output.raw')\n",
    "    print(file_name[0:-4]+'_output.raw')\n",
    "    return output\n"
   ]
  },
  {
   "cell_type": "code",
   "execution_count": 54,
   "metadata": {},
   "outputs": [
    {
     "name": "stdout",
     "output_type": "stream",
     "text": [
      "Starting\n",
      "Done\n",
      "Done\n",
      "Done\n",
      "/media/smc/RNAFish/DeepLearning/ProcessMe/A_output.raw\n"
     ]
    }
   ],
   "source": [
    "s=process_file(sess, data+'ProcessMe/A.raw')"
   ]
  },
  {
   "cell_type": "code",
   "execution_count": 26,
   "metadata": {
    "collapsed": true
   },
   "outputs": [],
   "source": [
    "a=sess.graph.get_operation_by_name('probabilities')"
   ]
  },
  {
   "cell_type": "code",
   "execution_count": 27,
   "metadata": {},
   "outputs": [
    {
     "data": {
      "text/plain": [
       "'probabilities'"
      ]
     },
     "execution_count": 27,
     "metadata": {},
     "output_type": "execute_result"
    }
   ],
   "source": [
    "a.name"
   ]
  },
  {
   "cell_type": "code",
   "execution_count": 10,
   "metadata": {},
   "outputs": [
    {
     "data": {
      "text/plain": [
       "list"
      ]
     },
     "execution_count": 10,
     "metadata": {},
     "output_type": "execute_result"
    }
   ],
   "source": [
    "type(a)"
   ]
  },
  {
   "cell_type": "code",
   "execution_count": 11,
   "metadata": {},
   "outputs": [
    {
     "data": {
      "text/plain": [
       "2689"
      ]
     },
     "execution_count": 11,
     "metadata": {},
     "output_type": "execute_result"
    }
   ],
   "source": [
    "len(a)"
   ]
  },
  {
   "cell_type": "code",
   "execution_count": 31,
   "metadata": {
    "collapsed": true
   },
   "outputs": [],
   "source": [
    "for i in sess.graph.get_operations():\n",
    "    print(i.name)\n",
    "    if (\"hold\" in i.name):\n",
    "        print(i.name)"
   ]
  },
  {
   "cell_type": "code",
   "execution_count": 37,
   "metadata": {},
   "outputs": [
    {
     "data": {
      "text/plain": [
       "[<tf.Variable 'conv2d/kernel:0' shape=(5, 5, 2, 32) dtype=float32_ref>,\n",
       " <tf.Variable 'conv2d/bias:0' shape=(32,) dtype=float32_ref>,\n",
       " <tf.Variable 'conv2d_1/kernel:0' shape=(3, 3, 32, 32) dtype=float32_ref>,\n",
       " <tf.Variable 'conv2d_1/bias:0' shape=(32,) dtype=float32_ref>,\n",
       " <tf.Variable 'conv2d_2/kernel:0' shape=(3, 3, 32, 64) dtype=float32_ref>,\n",
       " <tf.Variable 'conv2d_2/bias:0' shape=(64,) dtype=float32_ref>,\n",
       " <tf.Variable 'conv2d_3/kernel:0' shape=(3, 3, 64, 64) dtype=float32_ref>,\n",
       " <tf.Variable 'conv2d_3/bias:0' shape=(64,) dtype=float32_ref>,\n",
       " <tf.Variable 'conv2d_4/kernel:0' shape=(3, 3, 64, 128) dtype=float32_ref>,\n",
       " <tf.Variable 'conv2d_4/bias:0' shape=(128,) dtype=float32_ref>,\n",
       " <tf.Variable 'conv2d_5/kernel:0' shape=(3, 3, 128, 128) dtype=float32_ref>,\n",
       " <tf.Variable 'conv2d_5/bias:0' shape=(128,) dtype=float32_ref>,\n",
       " <tf.Variable 'conv2d_6/kernel:0' shape=(3, 3, 128, 256) dtype=float32_ref>,\n",
       " <tf.Variable 'conv2d_6/bias:0' shape=(256,) dtype=float32_ref>,\n",
       " <tf.Variable 'conv2d_7/kernel:0' shape=(3, 3, 256, 256) dtype=float32_ref>,\n",
       " <tf.Variable 'conv2d_7/bias:0' shape=(256,) dtype=float32_ref>,\n",
       " <tf.Variable 'conv2d_8/kernel:0' shape=(3, 3, 256, 512) dtype=float32_ref>,\n",
       " <tf.Variable 'conv2d_8/bias:0' shape=(512,) dtype=float32_ref>,\n",
       " <tf.Variable 'conv2d_9/kernel:0' shape=(3, 3, 512, 512) dtype=float32_ref>,\n",
       " <tf.Variable 'conv2d_9/bias:0' shape=(512,) dtype=float32_ref>,\n",
       " <tf.Variable 'conv2d_10/kernel:0' shape=(3, 3, 512, 1024) dtype=float32_ref>,\n",
       " <tf.Variable 'conv2d_10/bias:0' shape=(1024,) dtype=float32_ref>,\n",
       " <tf.Variable 'conv2d_11/kernel:0' shape=(3, 3, 1024, 1024) dtype=float32_ref>,\n",
       " <tf.Variable 'conv2d_11/bias:0' shape=(1024,) dtype=float32_ref>,\n",
       " <tf.Variable 'conv2d_transpose/kernel:0' shape=(3, 3, 256, 1024) dtype=float32_ref>,\n",
       " <tf.Variable 'conv2d_transpose/bias:0' shape=(256,) dtype=float32_ref>,\n",
       " <tf.Variable 'conv2d_12/kernel:0' shape=(3, 3, 768, 512) dtype=float32_ref>,\n",
       " <tf.Variable 'conv2d_12/bias:0' shape=(512,) dtype=float32_ref>,\n",
       " <tf.Variable 'conv2d_13/kernel:0' shape=(3, 3, 512, 512) dtype=float32_ref>,\n",
       " <tf.Variable 'conv2d_13/bias:0' shape=(512,) dtype=float32_ref>,\n",
       " <tf.Variable 'conv2d_transpose_1/kernel:0' shape=(3, 3, 256, 512) dtype=float32_ref>,\n",
       " <tf.Variable 'conv2d_transpose_1/bias:0' shape=(256,) dtype=float32_ref>,\n",
       " <tf.Variable 'conv2d_14/kernel:0' shape=(3, 3, 512, 256) dtype=float32_ref>,\n",
       " <tf.Variable 'conv2d_14/bias:0' shape=(256,) dtype=float32_ref>,\n",
       " <tf.Variable 'conv2d_15/kernel:0' shape=(3, 3, 256, 256) dtype=float32_ref>,\n",
       " <tf.Variable 'conv2d_15/bias:0' shape=(256,) dtype=float32_ref>,\n",
       " <tf.Variable 'conv2d_transpose_2/kernel:0' shape=(3, 3, 128, 256) dtype=float32_ref>,\n",
       " <tf.Variable 'conv2d_transpose_2/bias:0' shape=(128,) dtype=float32_ref>,\n",
       " <tf.Variable 'conv2d_16/kernel:0' shape=(3, 3, 256, 128) dtype=float32_ref>,\n",
       " <tf.Variable 'conv2d_16/bias:0' shape=(128,) dtype=float32_ref>,\n",
       " <tf.Variable 'conv2d_17/kernel:0' shape=(3, 3, 128, 128) dtype=float32_ref>,\n",
       " <tf.Variable 'conv2d_17/bias:0' shape=(128,) dtype=float32_ref>,\n",
       " <tf.Variable 'conv2d_transpose_3/kernel:0' shape=(3, 3, 64, 128) dtype=float32_ref>,\n",
       " <tf.Variable 'conv2d_transpose_3/bias:0' shape=(64,) dtype=float32_ref>,\n",
       " <tf.Variable 'conv2d_18/kernel:0' shape=(3, 3, 128, 64) dtype=float32_ref>,\n",
       " <tf.Variable 'conv2d_18/bias:0' shape=(64,) dtype=float32_ref>,\n",
       " <tf.Variable 'conv2d_19/kernel:0' shape=(3, 3, 64, 64) dtype=float32_ref>,\n",
       " <tf.Variable 'conv2d_19/bias:0' shape=(64,) dtype=float32_ref>,\n",
       " <tf.Variable 'conv2d_transpose_4/kernel:0' shape=(3, 3, 32, 64) dtype=float32_ref>,\n",
       " <tf.Variable 'conv2d_transpose_4/bias:0' shape=(32,) dtype=float32_ref>,\n",
       " <tf.Variable 'conv2d_20/kernel:0' shape=(3, 3, 64, 32) dtype=float32_ref>,\n",
       " <tf.Variable 'conv2d_20/bias:0' shape=(32,) dtype=float32_ref>,\n",
       " <tf.Variable 'conv2d_21/kernel:0' shape=(3, 3, 32, 32) dtype=float32_ref>,\n",
       " <tf.Variable 'conv2d_21/bias:0' shape=(32,) dtype=float32_ref>,\n",
       " <tf.Variable 'conv2d_22/kernel:0' shape=(1, 1, 32, 1) dtype=float32_ref>,\n",
       " <tf.Variable 'conv2d_22/bias:0' shape=(1,) dtype=float32_ref>]"
      ]
     },
     "execution_count": 37,
     "metadata": {},
     "output_type": "execute_result"
    }
   ],
   "source": [
    "tf.trainable_variables()"
   ]
  },
  {
   "cell_type": "code",
   "execution_count": null,
   "metadata": {
    "collapsed": true
   },
   "outputs": [],
   "source": []
  }
 ],
 "metadata": {
  "kernelspec": {
   "display_name": "Python (tflow)",
   "language": "python",
   "name": "tflow"
  },
  "language_info": {
   "codemirror_mode": {
    "name": "ipython",
    "version": 3
   },
   "file_extension": ".py",
   "mimetype": "text/x-python",
   "name": "python",
   "nbconvert_exporter": "python",
   "pygments_lexer": "ipython3",
   "version": "3.6.2"
  }
 },
 "nbformat": 4,
 "nbformat_minor": 2
}

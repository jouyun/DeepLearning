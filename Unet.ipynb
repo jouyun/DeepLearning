{
 "cells": [
  {
   "cell_type": "markdown",
   "metadata": {},
   "source": [
    "# Finding blobs in 64x64 images using conv2d"
   ]
  },
  {
   "cell_type": "code",
   "execution_count": 1,
   "metadata": {
    "collapsed": true
   },
   "outputs": [],
   "source": [
    "%matplotlib inline\n",
    "import numpy as np\n",
    "import matplotlib.pyplot as plt\n",
    "import pandas as pd\n",
    "import tensorflow as tf\n",
    "from scipy.optimize import curve_fit\n",
    "from PIL import Image\n",
    "import random"
   ]
  },
  {
   "cell_type": "markdown",
   "metadata": {},
   "source": [
    "# Get data"
   ]
  },
  {
   "cell_type": "markdown",
   "metadata": {},
   "source": [
    "Data reading function"
   ]
  },
  {
   "cell_type": "code",
   "execution_count": 2,
   "metadata": {
    "collapsed": true
   },
   "outputs": [],
   "source": [
    "def read_tiff(path, n_images):\n",
    "    \"\"\"\n",
    "    path - Path to the multipage-tiff file\n",
    "    n_images - Number of pages in the tiff file\n",
    "    \"\"\"\n",
    "    img = Image.open(path)\n",
    "    images = []\n",
    "    for i in range(n_images):\n",
    "        try:\n",
    "            img.seek(i)\n",
    "            slice_ = np.zeros((img.height, img.width))\n",
    "            for j in range(slice_.shape[0]):\n",
    "                for k in range(slice_.shape[1]):\n",
    "                    slice_[j,k] = img.getpixel((j, k))\n",
    "\n",
    "            images.append(slice_)\n",
    "\n",
    "        except EOFError:\n",
    "            # Not enough frames in img\n",
    "            break\n",
    "\n",
    "    return np.array(images)"
   ]
  },
  {
   "cell_type": "code",
   "execution_count": 3,
   "metadata": {
    "collapsed": true
   },
   "outputs": [],
   "source": [
    "def leaky_relu(inp, alpha=0.2):\n",
    "    return tf.maximum(inp * alpha, inp)\n",
    "    "
   ]
  },
  {
   "cell_type": "markdown",
   "metadata": {},
   "source": [
    "Read in blobs tiff"
   ]
  },
  {
   "cell_type": "code",
   "execution_count": 103,
   "metadata": {
    "collapsed": false
   },
   "outputs": [],
   "source": [
    "all_dataA=read_tiff('OutlinesE.tif',10000)\n",
    "#all_dataB=read_tiff('CountBlobsB.tif',10000)\n",
    "#all_dataC=read_tiff('CountBlobsC.tif',10000)"
   ]
  },
  {
   "cell_type": "code",
   "execution_count": 104,
   "metadata": {
    "collapsed": true
   },
   "outputs": [],
   "source": [
    "all_truthsA=read_tiff('OutlinesTruthE.tif',10000)\n",
    "#dfB=pd.read_csv('CountBlobsTruthB.csv')\n",
    "#dfC=pd.read_csv('CountBlobsTruthC.csv')"
   ]
  },
  {
   "cell_type": "markdown",
   "metadata": {},
   "source": [
    "Read in truth table"
   ]
  },
  {
   "cell_type": "markdown",
   "metadata": {},
   "source": [
    "# Design network"
   ]
  },
  {
   "cell_type": "markdown",
   "metadata": {},
   "source": [
    "Define a function to create a convolutional layer, including conv, relu, maxpool, that can be called multiple times"
   ]
  },
  {
   "cell_type": "code",
   "execution_count": 96,
   "metadata": {
    "collapsed": false
   },
   "outputs": [],
   "source": [
    "#Input and output\n",
    "x=tf.placeholder(dtype=tf.float32, shape=[None, 64,64])\n",
    "y=tf.placeholder(dtype=tf.float32, shape=[None, 64,64])\n",
    "\n",
    "xr=tf.reshape(x, [-1, 64,64,1])\n",
    "yr=tf.reshape(y, [-1, 64,64,1])\n",
    "\n",
    "base_scaler=64\n",
    "\n",
    "#Going down\n",
    "A1=leaky_relu(tf.layers.conv2d(xr, base_scaler, [3,3], padding='SAME'))\n",
    "A2=leaky_relu(tf.layers.conv2d(A1, base_scaler, [3,3], padding='SAME'))\n",
    "\n",
    "B0=tf.nn.max_pool(A2, ksize=[1,2,2,1], strides=[1,2,2,1], padding='SAME')\n",
    "B1=leaky_relu(tf.contrib.layers.conv2d(B0, 2*base_scaler, [3,3], padding='SAME'))\n",
    "B2=leaky_relu(tf.contrib.layers.conv2d(B1, 2*base_scaler, [3,3], padding='SAME'))\n",
    "\n",
    "C0=tf.nn.max_pool(B2, ksize=[1,2,2,1], strides=[1,2,2,1], padding='SAME')\n",
    "C1=leaky_relu(tf.contrib.layers.conv2d(C0, 4*base_scaler, [3,3], padding='SAME'))\n",
    "C2=leaky_relu(tf.contrib.layers.conv2d(C1, 4*base_scaler, [3,3], padding='SAME'))\n",
    "\n",
    "D0=tf.nn.max_pool(C2, ksize=[1,2,2,1], strides=[1,2,2,1], padding='SAME')\n",
    "D1=leaky_relu(tf.contrib.layers.conv2d(D0, 8*base_scaler, [3,3], padding='SAME'))\n",
    "D2=leaky_relu(tf.contrib.layers.conv2d(D1, 8*base_scaler, [3,3], padding='SAME'))\n",
    "\n",
    "E0=tf.nn.max_pool(D2, ksize=[1,2,2,1], strides=[1,2,2,1], padding='SAME')\n",
    "E1=leaky_relu(tf.contrib.layers.conv2d(E0, 16*base_scaler, [3,3], padding='SAME'))\n",
    "E2=leaky_relu(tf.contrib.layers.conv2d(E1, 16*base_scaler, [3,3], padding='SAME'))\n",
    "\n",
    "#Put in a dense layer, probably not a good idea\n",
    "using_fully_connected=1\n",
    "if using_fully_connected==0:\n",
    "    flattened=tf.reshape(E2, [-1,16*base_scaler*4*4 ])\n",
    "    dense1=tf.contrib.layers.fully_connected(flattened,128)\n",
    "    dense2=tf.contrib.layers.fully_connected(dense1,16*base_scaler*4*4)\n",
    "    unflattened=tf.reshape(dense2, [-1, 4,4,16*base_scaler])\n",
    "    DD0=tf.contrib.layers.conv2d_transpose(unflattened, 8*base_scaler, kernel_size=[3,3], stride=[2, 2], padding='SAME')\n",
    "else:\n",
    "    DD0=tf.contrib.layers.conv2d_transpose(E2, 8*base_scaler, kernel_size=[3,3], stride=[2, 2], padding='SAME')\n",
    "\n",
    "#Coming up\n",
    "DD1=tf.concat(axis=3, values=[DD0,D2])\n",
    "DD2=leaky_relu(tf.contrib.layers.conv2d(DD1, 8*base_scaler, [3,3], padding='SAME'))\n",
    "DD3=leaky_relu(tf.contrib.layers.conv2d(DD2, 8*base_scaler, [3,3], padding='SAME'))\n",
    "\n",
    "CC0=tf.contrib.layers.conv2d_transpose(DD3, 4*base_scaler, kernel_size=[3,3], stride=[2, 2], padding='SAME')\n",
    "CC1=tf.concat(axis=3, values=[CC0,C2])\n",
    "CC2=leaky_relu(tf.contrib.layers.conv2d(CC1, 4*base_scaler, [3,3], padding='SAME'))\n",
    "CC3=leaky_relu(tf.contrib.layers.conv2d(CC2, 4*base_scaler, [3,3], padding='SAME'))\n",
    "\n",
    "BB0=tf.contrib.layers.conv2d_transpose(CC3, 2*base_scaler, kernel_size=[3,3], stride=[2, 2], padding='SAME')\n",
    "BB1=tf.concat(axis=3, values=[BB0,B2])\n",
    "BB2=leaky_relu(tf.contrib.layers.conv2d(BB1, 2*base_scaler, [3,3], padding='SAME'))\n",
    "BB3=leaky_relu(tf.contrib.layers.conv2d(BB2, 2*base_scaler, [3,3], padding='SAME'))\n",
    "\n",
    "AA0=tf.contrib.layers.conv2d_transpose(BB3, base_scaler, kernel_size=[3,3], stride=[2, 2], padding='SAME')\n",
    "AA1=tf.concat(axis=3, values=[AA0,A2])\n",
    "AA2=leaky_relu(tf.contrib.layers.conv2d(AA1, base_scaler, [3,3], padding='SAME'))\n",
    "AA3=leaky_relu(tf.contrib.layers.conv2d(AA2, base_scaler, [3,3], padding='SAME'))\n",
    "\n",
    "logits=leaky_relu(tf.contrib.layers.conv2d(AA3, 1, [1,1], padding='SAME'))\n",
    "probs=tf.tanh(logits)\n",
    "\n",
    "diff=tf.subtract(probs, yr)\n",
    "LSQ=tf.multiply(diff,diff)\n",
    "loss=tf.reduce_mean(LSQ)\n",
    "\n",
    "train_op=tf.train.AdamOptimizer(learning_rate=0.001).minimize(loss)\n",
    "\n"
   ]
  },
  {
   "cell_type": "markdown",
   "metadata": {},
   "source": [
    "# Training on easy set"
   ]
  },
  {
   "cell_type": "code",
   "execution_count": 105,
   "metadata": {
    "collapsed": true
   },
   "outputs": [],
   "source": [
    "all_data=(all_dataA)/255.0\n",
    "\n",
    "train_data=all_data[0:6000, :,:]\n",
    "validation_data=all_data[6001:8000, :,:]\n",
    "test_data=all_data[8001:10000, :,:]"
   ]
  },
  {
   "cell_type": "code",
   "execution_count": 106,
   "metadata": {
    "collapsed": true
   },
   "outputs": [],
   "source": [
    "all_truths=all_truthsA/255.0\n",
    "\n",
    "train_truth=all_truths[0:6000, :,:]\n",
    "validation_truth=all_truths[6001:8000, :,:]\n",
    "test_truth=all_truths[8001:10000, :,:]"
   ]
  },
  {
   "cell_type": "code",
   "execution_count": 107,
   "metadata": {
    "collapsed": false
   },
   "outputs": [
    {
     "name": "stdout",
     "output_type": "stream",
     "text": [
      "Error rate:  (?, 64, 64, 1)\n",
      "Real loss:  0.29015285\n",
      "Error rate:  (?, 64, 64, 1)\n",
      "Real loss:  0.19695023\n",
      "Error rate:  (?, 64, 64, 1)\n",
      "Real loss:  0.18420802\n",
      "Error rate:  (?, 64, 64, 1)\n",
      "Real loss:  0.14193399\n",
      "Error rate:  (?, 64, 64, 1)\n",
      "Real loss:  0.090293296\n",
      "Error rate:  (?, 64, 64, 1)\n",
      "Real loss:  0.07887796\n",
      "Error rate:  (?, 64, 64, 1)\n",
      "Real loss:  0.073188186\n",
      "Error rate:  (?, 64, 64, 1)\n",
      "Real loss:  0.07762756\n",
      "Error rate:  (?, 64, 64, 1)\n",
      "Real loss:  0.06539014\n",
      "Error rate:  (?, 64, 64, 1)\n",
      "Real loss:  0.05882849\n",
      "Error rate:  (?, 64, 64, 1)\n",
      "Real loss:  0.057754785\n",
      "Error rate:  (?, 64, 64, 1)\n",
      "Real loss:  0.051427163\n",
      "Error rate:  (?, 64, 64, 1)\n",
      "Real loss:  0.046592064\n",
      "Error rate:  (?, 64, 64, 1)\n",
      "Real loss:  0.042031184\n",
      "Error rate:  (?, 64, 64, 1)\n",
      "Real loss:  0.048004255\n",
      "Error rate:  (?, 64, 64, 1)\n",
      "Real loss:  0.04413147\n",
      "Error rate:  (?, 64, 64, 1)\n",
      "Real loss:  0.041950446\n",
      "Error rate:  (?, 64, 64, 1)\n",
      "Real loss:  0.038147096\n",
      "Error rate:  (?, 64, 64, 1)\n",
      "Real loss:  0.03861632\n",
      "Error rate:  (?, 64, 64, 1)\n",
      "Real loss:  0.035856538\n",
      "Error rate:  (?, 64, 64, 1)\n",
      "Real loss:  0.03643602\n",
      "Error rate:  (?, 64, 64, 1)\n",
      "Real loss:  0.03620223\n",
      "Error rate:  (?, 64, 64, 1)\n",
      "Real loss:  0.0333972\n",
      "Error rate:  (?, 64, 64, 1)\n",
      "Real loss:  0.036027726\n",
      "Error rate:  (?, 64, 64, 1)\n",
      "Real loss:  0.03448054\n",
      "Error rate:  (?, 64, 64, 1)\n",
      "Real loss:  0.033220153\n",
      "Error rate:  (?, 64, 64, 1)\n",
      "Real loss:  0.032373954\n",
      "Error rate:  (?, 64, 64, 1)\n",
      "Real loss:  0.03227886\n",
      "Error rate:  (?, 64, 64, 1)\n",
      "Real loss:  0.032258257\n",
      "Error rate:  (?, 64, 64, 1)\n",
      "Real loss:  0.031644244\n",
      "Error rate:  (?, 64, 64, 1)\n",
      "Real loss:  0.030753069\n",
      "Error rate:  (?, 64, 64, 1)\n",
      "Real loss:  0.029549548\n",
      "Error rate:  (?, 64, 64, 1)\n",
      "Real loss:  0.029046264\n",
      "Error rate:  (?, 64, 64, 1)\n",
      "Real loss:  0.02970476\n",
      "Error rate:  (?, 64, 64, 1)\n",
      "Real loss:  0.028492402\n",
      "Error rate:  (?, 64, 64, 1)\n",
      "Real loss:  0.028377485\n",
      "Error rate:  (?, 64, 64, 1)\n",
      "Real loss:  0.028039347\n",
      "Error rate:  (?, 64, 64, 1)\n",
      "Real loss:  0.028676279\n",
      "Error rate:  (?, 64, 64, 1)\n",
      "Real loss:  0.027015267\n",
      "Error rate:  (?, 64, 64, 1)\n",
      "Real loss:  0.027096896\n",
      "Error rate:  (?, 64, 64, 1)\n",
      "Real loss:  0.026919723\n",
      "Error rate:  (?, 64, 64, 1)\n",
      "Real loss:  0.026502969\n",
      "Error rate:  (?, 64, 64, 1)\n",
      "Real loss:  0.025633272\n",
      "Error rate:  (?, 64, 64, 1)\n",
      "Real loss:  0.025580624\n",
      "Error rate:  (?, 64, 64, 1)\n",
      "Real loss:  0.02587578\n",
      "Error rate:  (?, 64, 64, 1)\n",
      "Real loss:  0.026016532\n",
      "Error rate:  (?, 64, 64, 1)\n",
      "Real loss:  0.02485207\n",
      "Error rate:  (?, 64, 64, 1)\n",
      "Real loss:  0.023869926\n",
      "Error rate:  (?, 64, 64, 1)\n",
      "Real loss:  0.024181833\n",
      "Error rate:  (?, 64, 64, 1)\n",
      "Real loss:  0.024053182\n"
     ]
    }
   ],
   "source": [
    "tf.set_random_seed(123456)\n",
    "sess=tf.Session()\n",
    "sess.run(tf.global_variables_initializer())\n",
    "\n",
    "for i in range(500):\n",
    "    idx=np.random.choice(6000, replace=False, size=[100])\n",
    "    cur_train=train_data[idx,:,:]\n",
    "    cur_truth=train_truth[idx,:,:]\n",
    "    _,results, LN,losses=sess.run([train_op, logits, probs, loss], feed_dict={x:cur_train, y:cur_truth})\n",
    "    if (i%10==0):\n",
    "        print(\"Error rate: \", logits.shape)\n",
    "        print(\"Real loss: \",losses)"
   ]
  },
  {
   "cell_type": "code",
   "execution_count": 113,
   "metadata": {
    "collapsed": false
   },
   "outputs": [
    {
     "name": "stdout",
     "output_type": "stream",
     "text": [
      "[0.0, 0.9999593]\n",
      "57\n"
     ]
    },
    {
     "data": {
      "text/plain": [
       "(100, 64, 64, 1)"
      ]
     },
     "execution_count": 113,
     "metadata": {},
     "output_type": "execute_result"
    },
    {
     "data": {
      "image/png": "[encoded data removed]",
      "text/plain": [
       "<matplotlib.figure.Figure at 0x7fb4a1f0f7f0>"
      ]
     },
     "metadata": {},
     "output_type": "display_data"
    },
    {
     "data": {
      "image/png": "[encoded data removed]",
      "text/plain": [
       "<matplotlib.figure.Figure at 0x7fb4a1f29160>"
      ]
     },
     "metadata": {},
     "output_type": "display_data"
    }
   ],
   "source": [
    "\n",
    "ix=random.randint(1,64)\n",
    "plt.figure()\n",
    "plt.imshow(np.log(0.001+results[ix,:,:,0]))\n",
    "plt.figure()\n",
    "#plt.imshow(cur_train[ix,:,:])\n",
    "plt.imshow((1+results[ix,:,:,0]))\n",
    "\n",
    "print([np.min(results[1,:,:,0]), np.max(results[1,:,:,0])])\n",
    "print(ix)\n",
    "results.shape"
   ]
  },
  {
   "cell_type": "code",
   "execution_count": 42,
   "metadata": {
    "collapsed": false
   },
   "outputs": [
    {
     "data": {
      "text/plain": [
       "0.5"
      ]
     },
     "execution_count": 42,
     "metadata": {},
     "output_type": "execute_result"
    },
    {
     "data": {
      "image/png": "[encoded data removed]",
      "text/plain": [
       "<matplotlib.figure.Figure at 0x7f4bfaff4b00>"
      ]
     },
     "metadata": {},
     "output_type": "display_data"
    }
   ],
   "source": [
    "plt.imshow(results[1,:,:,0])\n",
    "np.max(results[1,:,:,0])"
   ]
  },
  {
   "cell_type": "code",
   "execution_count": 108,
   "metadata": {
    "collapsed": false
   },
   "outputs": [
    {
     "data": {
      "text/plain": [
       "0.026481533"
      ]
     },
     "execution_count": 108,
     "metadata": {},
     "output_type": "execute_result"
    }
   ],
   "source": [
    "sub_range=range(0,100)\n",
    "sub_validation_data=validation_data[sub_range, :,:]\n",
    "sub_validation_truth=validation_truth[sub_range, :,:]\n",
    "results, LN,losses=sess.run([probs, LSQ, loss], feed_dict={x:sub_validation_data, y:sub_validation_truth})\n",
    "losses"
   ]
  },
  {
   "cell_type": "code",
   "execution_count": 109,
   "metadata": {
    "collapsed": false
   },
   "outputs": [
    {
     "name": "stdout",
     "output_type": "stream",
     "text": [
      "12\n"
     ]
    },
    {
     "data": {
      "text/plain": [
       "<matplotlib.image.AxesImage at 0x7fb6404bae48>"
      ]
     },
     "execution_count": 109,
     "metadata": {},
     "output_type": "execute_result"
    },
    {
     "data": {
      "image/png": "[encoded data removed]",
      "text/plain": [
       "<matplotlib.figure.Figure at 0x7fb6404b3390>"
      ]
     },
     "metadata": {},
     "output_type": "display_data"
    }
   ],
   "source": [
    "f,(ax1, ax2, ax3)=plt.subplots(1,3, figsize=(15,15))\n",
    "ix=random.randint(1,64)\n",
    "ix=12\n",
    "print(ix)\n",
    "ax2.imshow((0.01+results[ix,:,:,0]))\n",
    "ax1.imshow(sub_validation_data[ix,:,:])\n",
    "ax3.imshow(sub_validation_truth[ix,:,:])\n"
   ]
  },
  {
   "cell_type": "code",
   "execution_count": null,
   "metadata": {
    "collapsed": true
   },
   "outputs": [],
   "source": []
  }
 ],
 "metadata": {
  "kernelspec": {
   "display_name": "Python 3",
   "language": "python",
   "name": "python3"
  },
  "language_info": {
   "codemirror_mode": {
    "name": "ipython",
    "version": 3
   },
   "file_extension": ".py",
   "mimetype": "text/x-python",
   "name": "python",
   "nbconvert_exporter": "python",
   "pygments_lexer": "ipython3",
   "version": "3.6.0"
  }
 },
 "nbformat": 4,
 "nbformat_minor": 2
}
